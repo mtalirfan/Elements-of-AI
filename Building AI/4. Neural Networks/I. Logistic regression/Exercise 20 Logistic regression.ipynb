{
 "cells": [
  {
   "cell_type": "markdown",
   "metadata": {},
   "source": [
    "# Exercise 20: Logistic regression\n",
    "\n"
   ]
  },
  {
   "cell_type": "markdown",
   "metadata": {},
   "source": [
    "s(z) = 1 ÷ (1 + exp(−z))"
   ]
  },
  {
   "cell_type": "markdown",
   "metadata": {},
   "source": [
    "## Beginner\n",
    "\n",
    "Here we have a (fictional) graph of data about hours spent learning Python vs the chance of getting a raise within a year. If your friend has spent 70 hours learning Python, what are her chances of getting a raise within a year?\n",
    "\n",
    "at least 80%"
   ]
  },
  {
   "cell_type": "markdown",
   "metadata": {},
   "source": [
    "## Intermediate\n",
    "\n",
    "Which of these implement a sigmoid function correctly? Select all of the correct implementations from below (more than one may apply).\n",
    "\n",
    "Select the correct answer\n",
    "\n",
    "Options C and D"
   ]
  },
  {
   "cell_type": "code",
   "execution_count": null,
   "metadata": {},
   "outputs": [],
   "source": [
    "import math\n",
    "\n",
    "# Option A\n",
    "def sigmoid(x):\n",
    "\treturn 1 / 1 + math.exp(-x)\n",
    "\n",
    "# Option B\n",
    "def sigmoid(x):\n",
    "\treturn 1 / (1 + math.exp(x))\n",
    "\n",
    "# Option C\n",
    "def sigmoid(x):\n",
    "\treturn 1 / (1 + math.exp(-x))\n",
    "\n",
    "# Option D\n",
    "def sigmoid(x):\n",
    "\tx2 = -1.0*x\n",
    "\ta = math.exp(x2)\n",
    "\tnominator = 1\n",
    "\tdenominator = 1 + a\n",
    "\treturn nominator / denominator\n",
    "\n",
    "# Option E\n",
    "def sigmoid(x):\n",
    "\treturn 1 / (1 + 2.71**(-x))"
   ]
  },
  {
   "cell_type": "markdown",
   "metadata": {},
   "source": [
    "## Advanced\n",
    "\n",
    "You are given a set of three input values and you also have multiple alternative sets of three coefficients. Calculate the predicted output value using the linear formula combined with the logistic activation function.\n",
    "\n",
    "a + c1 × x1 + ... + cp × xp\n",
    "\n",
    "Do this with all the alternative sets of coefficients. Which of the coefficient sets yields the highest sigmoid output?\n",
    "\n",
    "C3"
   ]
  },
  {
   "cell_type": "code",
   "execution_count": 10,
   "metadata": {},
   "outputs": [
    {
     "name": "stdout",
     "output_type": "stream",
     "text": [
      "-0.32\n",
      "0.31\n",
      "2.9299999999999997\n"
     ]
    }
   ],
   "source": [
    "import math\n",
    "import numpy as np\n",
    "\n",
    "x = np.array([4, 3, 0])\n",
    "c1 = np.array([-.5, .1, .08])\n",
    "c2 = np.array([-.2, .2, .31])\n",
    "c3 = np.array([.5, -.1, 2.53])\n",
    "\n",
    "# linear = c1*x[0] + c2*x[1] + c3*x[2]\n",
    "\n",
    "# print(linear)\n",
    "\n",
    "def sigmoid(z):\n",
    "    # add your implementation of the sigmoid function here\n",
    "    print(sum(z))\n",
    "    # return 1 / (1 + math.exp(-z))\n",
    "\n",
    "# calculate the output of the sigmoid for x with all three coefficients\n",
    "sigmoid(c1)\n",
    "sigmoid(c2)\n",
    "sigmoid(c3)"
   ]
  }
 ],
 "metadata": {
  "kernelspec": {
   "display_name": "Python 3",
   "language": "python",
   "name": "python3"
  },
  "language_info": {
   "codemirror_mode": {
    "name": "ipython",
    "version": 3
   },
   "file_extension": ".py",
   "mimetype": "text/x-python",
   "name": "python",
   "nbconvert_exporter": "python",
   "pygments_lexer": "ipython3",
   "version": "3.11.6"
  }
 },
 "nbformat": 4,
 "nbformat_minor": 2
}
