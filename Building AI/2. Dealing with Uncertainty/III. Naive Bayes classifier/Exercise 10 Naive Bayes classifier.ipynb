{
 "cells": [
  {
   "cell_type": "markdown",
   "metadata": {},
   "source": [
    "# Exercise 10: Naive Bayes classifier\n",
    "\n",
    "P(spam∣words)=P(words ∣ spam)P(spam) ÷ P(words)\n",
    "\n",
    "r=P(word ∣ spam) ÷ P(word ∣ ham)\n",
    "\n",
    "P(million ∣ spam)÷P(million ∣ ham)=0.0016285÷0.0003198=5.0923\n",
    "\n",
    "P(conferences ∣ spam)÷P(conferences ∣ ham)=0.0000100÷0.0000391=0.2554\n",
    "\n",
    "if odds = x : y, then probability = x ÷ (x + y)\n",
    "\n",
    "## Beginner\n",
    "\n",
    "We have two dice in our desk drawer. One is a normal, plain die with six sides. Each of the sides comes up with an equal 1/6 probability. The other one is a loaded die that also has six sides, but that however gives the outcome six on every second try on average. That means the probability that you get a six is 16.7% with the first die but 50% with the second die.\n",
    "\n",
    "Suppose that we pick one of the dice at random so that both have the same chances of being picked, then start rolling the same die again and again. If the outcome is six on the first roll, you wouldn't be very sure it's the loaded die. If the outcome is also six on the second roll, you'd start thinking it probably is. After the third six, you'd start to be quite convinced.\n",
    "\n",
    "If the outcome keeps being six, how many rolls would it take altogether (counting from the start) until the odds are at least 100:1 in favor of the loaded die?\n",
    "\n",
    "Tip: use the likelihood ratio (r) discussed above. In this case, r = P(6 | loaded) / P(6 | normal).\n",
    "\n",
    "Select the correct answer\n",
    "\n",
    "5\n",
    "\n",
    "The likelihood ratio is r = P(6 | loaded) / P(6 | normal) = (1/2) / (1/6) = 3. If we start with the odds 1:1, the sequence of odds after each roll with the outcome 6 are as follows: 3:1, 9:1, 27:1, 81:1, 243:1, ... The fifth one is the first that is 100:1 or higher, so it takes five rolls with the outcome 6 to reach 100:1."
   ]
  },
  {
   "cell_type": "markdown",
   "metadata": {},
   "source": [
    "## Intermediate\n",
    "\n",
    "Suppose we have two coins. One is a normal 2 euro coin that comes heads up with 50% probability, and tails up also with 50% probability. The other coin, bought from the magicians' store, has heads on both sides. Good for party tricks and such. It comes heads up with 100% probability.\n",
    "\n",
    "Suppose now that we choose one of the two coins at random so that either one can be picked with equal probability. The odds that we have the normal coin is thus 1:1.\n",
    "\n",
    "Let's say the chosen coin keeps landing heads up. How confident can we be that it's the magic coin?\n",
    "\n",
    "Let's use the naive Bayes method to calculate the odds for the magic coin. We may start with the odds 1:1 since each coin is equally probable to begin with. Each time we flip the coin and it lands heads up, the odds are multiplied by the likelihood ratio which is\n",
    "\n",
    "r = P(heads | magic) / P(heads | normal) = 1 / 0.5 = 2\n",
    "Your task: Starting from the odds 1:1 (which is represented as simply the numerical value 1.0), use the naive Bayes method to update the odds for the magic coin after n heads in a row. For example, after three heads (n=3), the odds should be 1 x 2 x 2 x 2 = 8.0."
   ]
  },
  {
   "cell_type": "code",
   "execution_count": 10,
   "metadata": {},
   "outputs": [
    {
     "name": "stdout",
     "output_type": "stream",
     "text": [
      "8.0\n"
     ]
    }
   ],
   "source": [
    "def flip(n):\n",
    "    odds = 1.0         # start with 50% chance of the magic coin, which is the same as odds = 1:1\n",
    "    for i in range(n):\n",
    "        odds *= 2            # edit here to update the odds\n",
    "    print(odds)\n",
    "\n",
    "n = 3\n",
    "flip(n)\n"
   ]
  },
  {
   "cell_type": "markdown",
   "metadata": {},
   "source": [
    "## Advanced\n",
    "\n",
    "We have two dice in our desk drawer. One is a normal, plain die with six sides such that each of the sides comes up with equal 1/6 probability. The other one is a loaded die that also has six sides, but that however gives the outcome 6 with every second try on the average, the other five sides being equally probable.\n",
    "\n",
    "Thus with the first, normal die the probabilities of each side are the same, 0.167 (or 16.7 %). With the second, loaded die, the probability of 6 is 0.5 (or 50 %) and each of the other five sides has probability 0.1 (or 10 %).\n",
    "\n",
    "The following program gets as its input the choice of the die and then simulates a sequence of ten rolls.\n",
    "\n",
    "Your task: starting from the odds 1:1, use the naive Bayes method to update the odds after each outcome to decide which of the dice is more likely. Edit the function bayes so that it returns True if the most likely die is the loaded one, and False otherwise. Remember to be careful with the indices when accessing list elements!"
   ]
  },
  {
   "cell_type": "code",
   "execution_count": 16,
   "metadata": {},
   "outputs": [
    {
     "name": "stdout",
     "output_type": "stream",
     "text": [
      "rolling a loaded die\n",
      "rolled 6\n",
      "rolled 6\n",
      "rolled 3\n",
      "rolled 5\n",
      "rolled 6\n",
      "rolled 1\n",
      "rolled 6\n",
      "rolled 5\n",
      "rolled 6\n",
      "rolled 6\n",
      "I think loaded\n"
     ]
    }
   ],
   "source": [
    "import numpy as np\n",
    "\n",
    "p1 = [1/6, 1/6, 1/6, 1/6, 1/6, 1/6]   # normal\n",
    "p2 = [0.1, 0.1, 0.1, 0.1, 0.1, 0.5]   # loaded\n",
    "\n",
    "def roll(loaded):\n",
    "    if loaded:\n",
    "        print(\"rolling a loaded die\")\n",
    "        p = p2\n",
    "    else:\n",
    "        print(\"rolling a normal die\")\n",
    "        p = p1\n",
    "\n",
    "    # roll the dice 10 times\n",
    "    # add 1 to get dice rolls from 1 to 6 instead of 0 to 5\n",
    "    sequence = np.random.choice(6, size=10, p=p) + 1\n",
    "    for roll in sequence:\n",
    "        print(\"rolled %d\" % roll)\n",
    "\n",
    "    return sequence\n",
    "\n",
    "def bayes(sequence):\n",
    "    odds = 1.0           # start with odds 1:1\n",
    "    for roll in sequence:\n",
    "        if roll == 6:\n",
    "            odds *= 3             # edit here to update the odds\n",
    "        else:\n",
    "            odds *= 0.6\n",
    "\n",
    "    # for roll in sequence:\n",
    "    #     if roll == 6:\n",
    "    #         r = 0.5 / (1/6)\n",
    "    #     else:\n",
    "    #         r = 0.1 / (1/6)\n",
    "    #     odds = odds * r\n",
    "\n",
    "    if odds > 1:\n",
    "        return True\n",
    "    else:\n",
    "        return False\n",
    "\n",
    "sequence = roll(True)\n",
    "if bayes(sequence):\n",
    "    print(\"I think loaded\")\n",
    "else:\n",
    "    print(\"I think normal\")\n"
   ]
  }
 ],
 "metadata": {
  "kernelspec": {
   "display_name": "Python 3",
   "language": "python",
   "name": "python3"
  },
  "language_info": {
   "codemirror_mode": {
    "name": "ipython",
    "version": 3
   },
   "file_extension": ".py",
   "mimetype": "text/x-python",
   "name": "python",
   "nbconvert_exporter": "python",
   "pygments_lexer": "ipython3",
   "version": "3.11.6"
  }
 },
 "nbformat": 4,
 "nbformat_minor": 2
}
