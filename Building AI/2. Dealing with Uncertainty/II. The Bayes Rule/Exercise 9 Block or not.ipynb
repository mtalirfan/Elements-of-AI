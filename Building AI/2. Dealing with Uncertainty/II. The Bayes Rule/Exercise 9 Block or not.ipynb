{
 "cells": [
  {
   "cell_type": "markdown",
   "metadata": {},
   "source": [
    "# Exercise 9: Block or not\n",
    "\n",
    "Bayes Rule:\n",
    "\n",
    "P(A∣B)= P(B∣A)P(A)/P(B)\n",
    "\n",
    "​P(Denmark ∣ fisher)=P(fisher ∣ Denmark) P(Denmark)÷P(fisher)\n",
    "\n",
    "P(Denmark ∣ fisher)=0.00034×0.215÷0.00083=0.088\n",
    "\n",
    "## Beginner\n",
    "\n",
    "Let's suppose you have a social media account on Instagram, Twitter, or some other platform (just in case you don't, it doesn't matter. We'll fill you in with the relevant information). You check your account and notice that you have a new follower – this means that another user has decided to start following you to see things that you post. You don't recognize the person, and their username (or \"handle\" as it's called) is a little strange: John37330190. You don't want to have creepy bots following you, so you wonder whether to block them. To decide whether you should block the new follower, you decide to use the Bayes rule!\n",
    "\n",
    "Let's assume that 5% of your new followers are bots: this can be written as\n",
    "\n",
    "P(bot) = 0.05.\n",
    "Let's also assume that 80% of bot accounts have a username that includes an 8-digit number (like 37330190):\n",
    "\n",
    "P(8-digits | bot) = 0.8\n",
    "The last term that is required is the probability that a new follower (either a bot or not) has an 8-digit number in their username. Assume this to be:\n",
    "\n",
    "P(8-digits) = 0.041.\n",
    "Calculate the probability that the new follower is a bot, P(bot | 8-digit), using the Bayes rule: P(A | B) = P(B | A)P(A)/P(B). The values of the three terms that are needed are found above. Choose the right answer (rounded up to one decimal digit):\n",
    "\n",
    "Select the correct answer\n",
    "\n",
    "97.6% (probability 0.976)"
   ]
  },
  {
   "cell_type": "markdown",
   "metadata": {},
   "source": [
    "## Intermediate\n",
    "\n",
    "Let's suppose you have a social media account on Instagram, Twitter, or some other platform (just in case you don't, it doesn't matter. We'll fill you in with the relevant information). You check your account and notice that you have a new follower – this means that another user has decided to start following you to see things that you post. You don't recognize the person, and their username (or \"handle\" as it's called) is a little strange: John37330190. You don't want to have creepy bots following you, so you wonder whether to block them. To decide whether you should block the new follower, you decide to use the Bayes rule!\n",
    "\n",
    "Let's assume that 5% of your new followers are bots: this can be written as\n",
    "\n",
    "P(bot) = 0.05.\n",
    "Let's also assume that 80% of bot accounts have a username that includes an 8-digit number (like 37330190):\n",
    "\n",
    "P(8-digits | bot) = 0.8\n",
    "The last term that is required is the probability, P(8-digits), which is the probability that a new follower (either a bot or not) has an 8-digit number in their username. This probability would be quite hard to know or estimate directly. Instead, we may just know that real people who follow you usually don't have such a sequence in their username, so perhaps we have:\n",
    "\n",
    "P(8-digits | human) = 0.01.\n",
    "The nice thing is that we can now calculate P(8-digits) from the above information. The formula may look a little nasty at first sight, unless you're familiar with probability calculus, but it's quite friendly if you approach it with a smile:\n",
    "\n",
    "P(8-digits) = P(8-digits | bot) x P(bot) + P(8-digits | human) x P(human)\n",
    "\n",
    "The last term P(human) must be 0.95 since the other option (bot) has probability 0.05. Plug the number into the above formula to calculate the probability P(8-digits):\n",
    "\n",
    "0.0495\n",
    "\n",
    "Lastly, calculate the probability that the new follower is a bot, P(bot | 8-digit), using the Bayes rule. The values of the three terms that are needed are found above. Choose the right answer (rounded up to four decimal digits):\n",
    "\n",
    "0.8081"
   ]
  },
  {
   "cell_type": "markdown",
   "metadata": {},
   "source": [
    "## Advanced\n",
    "\n",
    "Let's suppose you have a social media account on Instagram, Twitter, or some other platform. (Just in case you don't, it doesn't matter. We'll fill you in with the relevant information.) You check your account and notice that you have a new follower – this means that another user has decided to start following you to see things that you post. You don't recognize the person, and their username (or \"handle\" as it's called) is a little strange: John37330190. You don't want to have creepy bots following you, so you wonder. To decide whether you should block the new follower, you decide to use the Bayes rule!\n",
    "\n",
    "Suppose we know the probability that a new follower is a bot. You'll be writing a program that takes this value as an input. For now, let's just call this value P(bot). You'll also be given the probability that the username of a bot account includes an 8-digit number, which we'll call P(8-digits | bot), as well as the same probability for human (non-bot) accounts, P(8-digits | human).\n",
    "\n",
    "To use the Bayes rule, we'll also need to know the probability that a new follower (can be either bot or human) has an 8-digit number in their username, P(8-digits). The nice thing is that we can calculate P(8-digits) from the above information. The formula is as follows:\n",
    "\n",
    "P(8-digits) = P(8-digits | bot) x P(bot) + P(8-digits | human) x P(human)\n",
    "Remember that you can get P(human) simply as 1–P(bot), since these are the only options. (We consider business and other accounts as \"human\" as long as they aren't bots.)\n",
    "\n",
    "Write a program that takes as input the probability of a follower being a bot (pbot), the probability of a bot having a username with 8 digits (p8_bot), and the probability of a human having a username with 8 digits (p8_human). The values for these inputs are free for you to choose, but they have to be probabilities, so they have to be between 0 and 1.\n",
    "\n",
    "Using the numbers you give the program calculate P(8-digits) and then use it and the Bayes rule to calculate and print out the probability of the new follower being a bot, P(bot | 8-digits):\n",
    "\n",
    "P(bot | 8-digits) =  P(8-digits | bot) x P(bot) / P(8-digits).\n",
    "\n",
    "P(8-digits) = P(8-digits | bot) x P(bot) + P(8-digits | human) x P(human)"
   ]
  },
  {
   "cell_type": "code",
   "execution_count": 3,
   "metadata": {},
   "outputs": [
    {
     "name": "stdout",
     "output_type": "stream",
     "text": [
      "0.64\n"
     ]
    }
   ],
   "source": [
    "def bot_8(p_bot, p_8_bot, p_8_human):\n",
    "    p_8 = p_8_bot * p_bot + p_8_human * (1 - p_bot)\n",
    "    p_bot_8 = p_8_bot * p_bot / p_8\n",
    "    print(p_bot_8)\n",
    "\n",
    "# you can change these values to test your program with different values\n",
    "p_bot = 0.1\n",
    "p_8_bot = 0.8\n",
    "p_8_human = 0.05\n",
    "\n",
    "bot_8(p_bot, p_8_bot, p_8_human)\n"
   ]
  }
 ],
 "metadata": {
  "kernelspec": {
   "display_name": "Python 3",
   "language": "python",
   "name": "python3"
  },
  "language_info": {
   "codemirror_mode": {
    "name": "ipython",
    "version": 3
   },
   "file_extension": ".py",
   "mimetype": "text/x-python",
   "name": "python",
   "nbconvert_exporter": "python",
   "pygments_lexer": "ipython3",
   "version": "3.11.6"
  }
 },
 "nbformat": 4,
 "nbformat_minor": 2
}
