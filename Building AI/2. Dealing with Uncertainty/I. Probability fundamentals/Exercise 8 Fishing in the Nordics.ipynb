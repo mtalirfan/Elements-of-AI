{
 "cells": [
  {
   "cell_type": "markdown",
   "metadata": {},
   "source": [
    "# Exercise 8: Fishing in the Nordics\n",
    "\n",
    "## Beginner\n",
    "\n",
    "What is the probability that the winner is a fisher given that they are Norwegian? Be mindful of the innocent sounding distinction between the probability of X given Y and the probability of Y given X.\n",
    "\n",
    "Select the correct answer\n",
    "\n",
    "0.229%"
   ]
  },
  {
   "cell_type": "markdown",
   "metadata": {},
   "source": [
    "## Intermediate\n",
    "\n",
    "These are the conditional probabilities of the winner being from each country given that the winner is a fisher. The expression has the form \"probability of X given Y\" where X and Y are specific events. For example,\n",
    "\n",
    "P(Denmark ∣ fisher)=fishers(Denmark)÷fishers(total)\n",
    "\n",
    "Write a program that uses statistics about the population and fishing industry employment to print out conditional probabilities of each nationality given that the winner works in the fishing industry.\n",
    "\n",
    "The data is given in lists containing the population and the number of fishers in each country.\n",
    "\n",
    "Output Example\n",
    "Denmark 14.32%\n",
    "...\n",
    "Sweden 08.45%\n",
    "Tip: Your values might be different, but the formatting should be identical."
   ]
  },
  {
   "cell_type": "code",
   "execution_count": 8,
   "metadata": {},
   "outputs": [
    {
     "name": "stdout",
     "output_type": "stream",
     "text": [
      "Denmark 8.71%\n",
      "Finland 12.22%\n",
      "Iceland 17.50%\n",
      "Norway 53.48%\n",
      "Sweden 8.09%\n"
     ]
    }
   ],
   "source": [
    "def main():\n",
    "    countries = ['Denmark', 'Finland', 'Iceland', 'Norway', 'Sweden']\n",
    "    populations = [5615000, 5439000, 324000, 5080000, 9609000]\n",
    "    fishers = [1891, 2652, 3800, 11611, 1757]\n",
    "\n",
    "    total_fishers = sum(fishers)\n",
    "    total_population = sum(populations)\n",
    "\n",
    "    # write your solution here\n",
    "\n",
    "    prob = []\n",
    "\n",
    "    for fisher in fishers:\n",
    "        prob_fishers = fisher*100/total_fishers\n",
    "        prob.append(prob_fishers)\n",
    "\n",
    "    for country, probability in zip(countries, prob):\n",
    "        print(\"%s %.2f%%\" % (country, probability)) # modify this to print correct results\n",
    "\n",
    "main()\n"
   ]
  },
  {
   "cell_type": "markdown",
   "metadata": {},
   "source": [
    "## Advanced\n",
    "\n",
    "Suppose we also happen to know the gender of the lottery winner. Here are same OECD statistics as above broken down by gender:\n",
    "\n",
    "Write a function that uses the above numbers and tries to guess the nationality of the winner when we know that the winner is a fisher and their gender (either female or male).\n",
    "\n",
    "The argument of the function should be the gender of the winner ('female' or 'male'). The return value of the function should be a pair (country, probability) where country is the most likely nationality of the winner and probability is the probability of the country being the nationality of the winner.\n",
    "\n",
    "Output Example\n",
    "\n",
    "if the winner is male, my guess is he's from Finland; probability 08.56%\n",
    "\n",
    "if the winner is female, my guess is she's from Norway; probability 23.98%\n",
    "\n",
    "\n",
    "Tip: Your values might be different, but the formatting should be identical.\n",
    "\n",
    "Hint:\n",
    "\n",
    "Depending on the gender of the winner, you should use the numbers in the \"Male fishers\" or \"Female fishers\" column in the above table. The country for which the number in the chosen column is the highest, is the most likely nationality of the winner."
   ]
  },
  {
   "cell_type": "code",
   "execution_count": 13,
   "metadata": {},
   "outputs": [
    {
     "name": "stdout",
     "output_type": "stream",
     "text": [
      "if the winner is male, my guess is he's from Norway; probability 54.23%\n",
      "if the winner is female, my guess is she's from Iceland; probability 44.84%\n"
     ]
    }
   ],
   "source": [
    "countries = ['Denmark', 'Finland', 'Iceland', 'Norway', 'Sweden']\n",
    "populations = [5615000, 5439000, 324000, 5080000, 9609000]\n",
    "male_fishers = [1822, 2575, 3400, 11291, 1731]\n",
    "female_fishers = [69, 77, 400, 320, 26]\n",
    "\n",
    "def guess(winner_gender):\n",
    "    if winner_gender == 'female':\n",
    "        fishers = female_fishers\n",
    "    else:\n",
    "        fishers = male_fishers\n",
    "\n",
    "    # write your solution here\n",
    "    total_fishers = sum(fishers)\n",
    "\n",
    "    prob = []\n",
    "\n",
    "    for fisher in fishers:\n",
    "        prob_fishers = fisher*100/total_fishers\n",
    "        prob.append(prob_fishers)\n",
    "\n",
    "    guess = countries[prob.index(max(prob))]\n",
    "    biggest = max(prob)\n",
    "    return (guess, biggest)\n",
    "\n",
    "def main():\n",
    "    country, fraction = guess(\"male\")\n",
    "    print(\"if the winner is male, my guess is he's from %s; probability %.2f%%\" % (country, fraction))\n",
    "    country, fraction = guess(\"female\")\n",
    "    print(\"if the winner is female, my guess is she's from %s; probability %.2f%%\" % (country, fraction))\n",
    "\n",
    "main()\n"
   ]
  }
 ],
 "metadata": {
  "kernelspec": {
   "display_name": "Python 3",
   "language": "python",
   "name": "python3"
  },
  "language_info": {
   "codemirror_mode": {
    "name": "ipython",
    "version": 3
   },
   "file_extension": ".py",
   "mimetype": "text/x-python",
   "name": "python",
   "nbconvert_exporter": "python",
   "pygments_lexer": "ipython3",
   "version": "3.11.6"
  }
 },
 "nbformat": 4,
 "nbformat_minor": 2
}
