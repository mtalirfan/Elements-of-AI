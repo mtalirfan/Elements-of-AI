{
 "cells": [
  {
   "cell_type": "markdown",
   "metadata": {},
   "source": [
    "# Exercise 2: Pineapple route emissions"
   ]
  },
  {
   "cell_type": "markdown",
   "metadata": {},
   "source": [
    "Just listing the alternatives is not very useful but at least it helps us realize that the number of routes is starting to be so big that finding the best one manually would be a chore. There are 24 routes for five ports (one of which is the starting point). If some pineapples were also wanted in, say, London, it could be added in the route in five different positions, so the number of routes would become 5×24=120. With yet another destination, this number would be multiplied by 6, to get 6×120=720 different routes, and so on.\n",
    "\n",
    "An automatic solution using a computer can take us much further. However, without some clever strategies to reduce the workload, even a computer will choke sooner or later. Which is where the more advanced AI techniques step in. But let's not rush ahead of ourselves before we have to – let's work out our route to get the pineapples delivered to the four cities with minimal carbon emissions.\n",
    "\n",
    "Having listed the alternatives, next we can calculate the carbon emissions for each of them. Below you'll find the distances between the ports in kilometers in a five-by-five table.\n",
    "\n",
    "\t\tPAN\tAMS\tCAS\tNY\tHEL\n",
    "\tPAN\t0\t8943\t8019\t3652\t10545\n",
    "\tAMS\t8943\t0\t2619\t6317\t2078\n",
    "\tCAS\t8019\t2619\t0\t5836\t4939\n",
    "\tNY\t3652\t6317\t5836\t0\t7825\n",
    "\tHEL\t10545\t2078\t4939\t7825\t0\n",
    "\n",
    "Let's assume that the boat is relatively modern and produces 0.020 kg of CO2 emissions per kilometer for the amount of pineapples that we are shipping. Thus, you can calculate the emissions caused by traveling from Panama to Amsterdam by first looking up the distance in the first row, second column of the table (highlighted in the above table): 8943 km, and then multiplying this with 0.020kg/km to get 178.9 kg."
   ]
  },
  {
   "cell_type": "markdown",
   "metadata": {},
   "source": [
    "## Beginner\n",
    "\n",
    "Using the reference table, calculate the emissions produced by the following three routes. Which one produces the least emissions?\n",
    "\n",
    "PAN, AMS, CAS, NY, HEL\n",
    "\n",
    "8943 + 2619 + 5836 + 7825 = 25223 km\n",
    "\n",
    "PAN, NY, CAS, AMS, HEL\n",
    "\n",
    "3652 + 5836 + 2619 + 2078 = 14185 km\n",
    "\n",
    "PAN, NY, AMS, CAS, HEL\n",
    "\n",
    "3652 + 6317 + 2619 + 4939 = 17527 km\n",
    "\n",
    "The total distances are 25,223.0 km, 14,185.0 km, and 17,527.0 km. The corresponding emissions are 504.5 kg, 283.7 kg, and 350.5 kg, respectively. So the second route is the shortest and produces the least emissions. If you look at the map, the second route makes sense since it starts from Central America, stops at North America, crosses the Atlantic to stop at the African continent before continuing to Central Europe and finally to Northern Europe."
   ]
  },
  {
   "cell_type": "markdown",
   "metadata": {},
   "source": [
    "# Intermediate\n",
    "\n",
    "The program below prints the total emissions on the route PAN, AMS, CAS, NY, HEL (in port indices route 0, 1, 2, 3, 4) in kilograms, which is 504.5 kg. Modify the program so that it prints out the carbon emissions of all the possible routes. The solution for the previous exercise should be useful here.\n",
    "\n",
    "Output Example\n",
    "\n",
    "PAN AMS CAS NYC HEL 427.1 kg\n",
    "\n",
    "...\n",
    "\n",
    "PAN CAS AMS NYC HEL 495.5 kg\n",
    "\n",
    "Tip: Your values might be different, but the formatting should be identical."
   ]
  },
  {
   "cell_type": "code",
   "execution_count": 2,
   "metadata": {},
   "outputs": [
    {
     "name": "stdout",
     "output_type": "stream",
     "text": [
      "PAN AMS CAS NYC HEL 504.5 kg\n"
     ]
    }
   ],
   "source": [
    "def main():\n",
    "    portnames = [\"PAN\", \"AMS\", \"CAS\", \"NYC\", \"HEL\"]\n",
    "\n",
    "    # https://sea-distances.org/\n",
    "    # nautical miles converted to km\n",
    "\n",
    "    D = [\n",
    "            [0,8943,8019,3652,10545],\n",
    "            [8943,0,2619,6317,2078],\n",
    "            [8019,2619,0,5836,4939],\n",
    "            [3652,6317,5836,0,7825],\n",
    "            [10545,2078,4939,7825,0]\n",
    "        ]\n",
    "\n",
    "    # https://timeforchange.org/co2-emissions-shipping-goods\n",
    "    # assume 20g per km per metric ton (of pineapples)\n",
    "\n",
    "\n",
    "    co2 = 0.020\n",
    "\n",
    "    route = [0, 1, 2, 3, 4]\n",
    "    distance = D[route[0]][route[1]] + D[route[1]][route[2]] + D[route[2]][route[3]] + D[route[3]][route[4]]\n",
    "    emissions = distance * co2\n",
    "    print(' '.join([portnames[i] for i in route]) + \" %.1f kg\" % emissions)\n",
    "\n",
    "main()\n"
   ]
  },
  {
   "cell_type": "code",
   "execution_count": 3,
   "metadata": {},
   "outputs": [
    {
     "name": "stdout",
     "output_type": "stream",
     "text": [
      "PAN AMS CAS NYC HEL 504.5 kg\n",
      "PAN AMS CAS HEL NYC 486.5 kg\n",
      "PAN AMS NYC CAS HEL 520.7 kg\n",
      "PAN AMS NYC HEL CAS 560.5 kg\n",
      "PAN AMS HEL CAS NYC 435.9 kg\n",
      "PAN AMS HEL NYC CAS 493.6 kg\n",
      "PAN CAS AMS NYC HEL 495.6 kg\n",
      "PAN CAS AMS HEL NYC 410.8 kg\n",
      "PAN CAS NYC AMS HEL 445.0 kg\n",
      "PAN CAS NYC HEL AMS 475.2 kg\n",
      "PAN CAS HEL AMS NYC 427.1 kg\n",
      "PAN CAS HEL NYC AMS 542.0 kg\n",
      "PAN NYC AMS CAS HEL 350.5 kg\n",
      "PAN NYC AMS HEL CAS 339.7 kg\n",
      "PAN NYC CAS AMS HEL 283.7 kg\n",
      "PAN NYC CAS HEL AMS 330.1 kg\n",
      "PAN NYC HEL AMS CAS 323.5 kg\n",
      "PAN NYC HEL CAS AMS 380.7 kg\n",
      "PAN HEL AMS CAS NYC 421.6 kg\n",
      "PAN HEL AMS NYC CAS 495.5 kg\n",
      "PAN HEL CAS AMS NYC 488.4 kg\n",
      "PAN HEL CAS NYC AMS 552.7 kg\n",
      "PAN HEL NYC AMS CAS 546.1 kg\n",
      "PAN HEL NYC CAS AMS 536.5 kg\n"
     ]
    }
   ],
   "source": [
    "portnames = [\"PAN\", \"AMS\", \"CAS\", \"NYC\", \"HEL\"]\n",
    "# https://sea-distances.org/\n",
    "# nautical miles converted to km\n",
    "D = [\n",
    "        [0,8943,8019,3652,10545],\n",
    "        [8943,0,2619,6317,2078],\n",
    "        [8019,2619,0,5836,4939],\n",
    "        [3652,6317,5836,0,7825],\n",
    "        [10545,2078,4939,7825,0]\n",
    "    ]\n",
    "# https://timeforchange.org/co2-emissions-shipping-goods\n",
    "# assume 20g per km per metric ton (of pineapples)\n",
    "co2 = 0.020\n",
    "\n",
    "\n",
    "def main():\n",
    "    permutations([0], list(range(1, len(portnames))))\n",
    "\n",
    "def permutations(route, ports):\n",
    "\n",
    "    if len(ports) < 1:\n",
    "        distance = D[route[0]][route[1]] + D[route[1]][route[2]] + D[route[2]][route[3]] + D[route[3]][route[4]]\n",
    "        emissions = distance * co2\n",
    "        print(' '.join([portnames[i] for i in route]) + \" %.1f kg\" % emissions)\n",
    "    else:\n",
    "        for i in range(len(ports)):\n",
    "            permutations(route+[ports[i]], ports[:i]+ports[i+1:])\n",
    "\n",
    "main()\n"
   ]
  },
  {
   "cell_type": "code",
   "execution_count": 6,
   "metadata": {},
   "outputs": [
    {
     "name": "stdout",
     "output_type": "stream",
     "text": [
      "PAN AMS CAS NYC HEL 504.5 kg\n",
      "PAN AMS CAS HEL NYC 486.5 kg\n",
      "PAN AMS NYC CAS HEL 520.7 kg\n",
      "PAN AMS NYC HEL CAS 560.5 kg\n",
      "PAN AMS HEL CAS NYC 435.9 kg\n",
      "PAN AMS HEL NYC CAS 493.6 kg\n",
      "PAN CAS AMS NYC HEL 495.6 kg\n",
      "PAN CAS AMS HEL NYC 410.8 kg\n",
      "PAN CAS NYC AMS HEL 445.0 kg\n",
      "PAN CAS NYC HEL AMS 475.2 kg\n",
      "PAN CAS HEL AMS NYC 427.1 kg\n",
      "PAN CAS HEL NYC AMS 542.0 kg\n",
      "PAN NYC AMS CAS HEL 350.5 kg\n",
      "PAN NYC AMS HEL CAS 339.7 kg\n",
      "PAN NYC CAS AMS HEL 283.7 kg\n",
      "PAN NYC CAS HEL AMS 330.1 kg\n",
      "PAN NYC HEL AMS CAS 323.5 kg\n",
      "PAN NYC HEL CAS AMS 380.7 kg\n",
      "PAN HEL AMS CAS NYC 421.6 kg\n",
      "PAN HEL AMS NYC CAS 495.5 kg\n",
      "PAN HEL CAS AMS NYC 488.4 kg\n",
      "PAN HEL CAS NYC AMS 552.7 kg\n",
      "PAN HEL NYC AMS CAS 546.1 kg\n",
      "PAN HEL NYC CAS AMS 536.5 kg\n"
     ]
    }
   ],
   "source": [
    "def main():\n",
    "    portnames = [\"PAN\", \"AMS\", \"CAS\", \"NYC\", \"HEL\"]\n",
    "    # https://sea-distances.org/\n",
    "    # nautical miles converted to km\n",
    "    D = [\n",
    "            [0,8943,8019,3652,10545],\n",
    "            [8943,0,2619,6317,2078],\n",
    "            [8019,2619,0,5836,4939],\n",
    "            [3652,6317,5836,0,7825],\n",
    "            [10545,2078,4939,7825,0]\n",
    "        ]\n",
    "    # https://timeforchange.org/co2-emissions-shipping-goods\n",
    "    # assume 20g per km per metric ton (of pineapples)\n",
    "    co2 = 0.020\n",
    "\n",
    "    port1 = 0\n",
    "    for port2 in range(1, 5):\n",
    "        for port3 in range(1, 5):\n",
    "            for port4 in range(1, 5):\n",
    "                for port5 in range(1, 5):\n",
    "                    route = [port1, port2, port3, port4, port5]\n",
    "\n",
    "                    # Modify this if statement to check if the route is valid\n",
    "                    if (all(x in route for x in [0, 1, 2, 3, 4])): # True | all(x in route for x in [0, 1, 2, 3, 4]) | all(x in route for x in range(5)) | 0 in route and 1 in route and 2 in route and 3 in route and 4 in route | set(route) == set(range(5))\n",
    "                        # do not modify this print statement\n",
    "                        distance = D[route[0]][route[1]] + D[route[1]][route[2]] + \\\n",
    "                            D[route[2]][route[3]] + D[route[3]][route[4]]\n",
    "                        emissions = distance * co2\n",
    "                        print(' '.join([portnames[i] for i in route]) + \" %.1f kg\" % emissions)\n",
    "\n",
    "main()"
   ]
  },
  {
   "cell_type": "code",
   "execution_count": 4,
   "metadata": {},
   "outputs": [
    {
     "name": "stdout",
     "output_type": "stream",
     "text": [
      "PAN AMS CAS NYC HEL 504.5 kg\n",
      "PAN AMS CAS HEL NYC 486.5 kg\n",
      "PAN AMS NYC CAS HEL 520.7 kg\n",
      "PAN AMS NYC HEL CAS 560.5 kg\n",
      "PAN AMS HEL CAS NYC 435.9 kg\n",
      "PAN AMS HEL NYC CAS 493.6 kg\n",
      "PAN CAS AMS NYC HEL 495.6 kg\n",
      "PAN CAS AMS HEL NYC 410.8 kg\n",
      "PAN CAS NYC AMS HEL 445.0 kg\n",
      "PAN CAS NYC HEL AMS 475.2 kg\n",
      "PAN CAS HEL AMS NYC 427.1 kg\n",
      "PAN CAS HEL NYC AMS 542.0 kg\n",
      "PAN NYC AMS CAS HEL 350.5 kg\n",
      "PAN NYC AMS HEL CAS 339.7 kg\n",
      "PAN NYC CAS AMS HEL 283.7 kg\n",
      "PAN NYC CAS HEL AMS 330.1 kg\n",
      "PAN NYC HEL AMS CAS 323.5 kg\n",
      "PAN NYC HEL CAS AMS 380.7 kg\n",
      "PAN HEL AMS CAS NYC 421.6 kg\n",
      "PAN HEL AMS NYC CAS 495.5 kg\n",
      "PAN HEL CAS AMS NYC 488.4 kg\n",
      "PAN HEL CAS NYC AMS 552.7 kg\n",
      "PAN HEL NYC AMS CAS 546.1 kg\n",
      "PAN HEL NYC CAS AMS 536.5 kg\n"
     ]
    }
   ],
   "source": [
    "# Example solution\n",
    "\n",
    "port1 = 0\n",
    "for port2 in range(1, 5):\n",
    "    for port3 in range(1, 5):\n",
    "        for port4 in range(1, 5):\n",
    "            for port5 in range(1, 5):\n",
    "                route = [port1, port2, port3, port4, port5]\n",
    "                if 0 in route and 1 in route and 2 in route and 3 in route and 4 in route:\n",
    "                    distance = D[route[0]][route[1]] + D[route[1]][route[2]] + \\\n",
    "                        D[route[2]][route[3]] + D[route[3]][route[4]]\n",
    "                    emissions = distance * co2\n",
    "                    print(' '.join([portnames[i] for i in route]) + \" %.1f kg\" % emissions)"
   ]
  },
  {
   "cell_type": "markdown",
   "metadata": {},
   "source": [
    "# Advanced\n",
    "\n",
    "Building on the previous solution, modify the code so that it finds the route with minimum carbon emissions and prints it out. Again, the program should work for any number of ports. You can assume that the distances between the ports are given in an array of the appropriate size so that the distance between ports i and j is found in D[i][j].\n",
    "\n",
    "Output Example\n",
    "\n",
    "PAN AMS CAS NYC HEL 240.1 kg\n",
    "\n",
    "Tip: Your values might be different, but the formatting should be identical.\n",
    "\n",
    "You can make use of the variable smallest whose value is initialized to be a large number, say 1000000 kg, which is (fortunately!) greater than the emissions of any route. You can then compare the emissions of each route to smallest, and if the emissions of the current route are less than smallest, update the value of smallest. Every time you do so, you should also assign the current route to best_route. At the end, the route with the least emissions will be stored in best_route and its emissions will be stored in smallest."
   ]
  },
  {
   "cell_type": "code",
   "execution_count": 18,
   "metadata": {},
   "outputs": [
    {
     "name": "stdout",
     "output_type": "stream",
     "text": [
      "PAN PAN PAN PAN PAN 1000000.0 kg\n"
     ]
    }
   ],
   "source": [
    "portnames = [\"PAN\", \"AMS\", \"CAS\", \"NYC\", \"HEL\"]\n",
    "\n",
    "# https://sea-distances.org/\n",
    "# nautical miles converted to km\n",
    "\n",
    "D = [\n",
    "        [0,8943,8019,3652,10545],\n",
    "        [8943,0,2619,6317,2078],\n",
    "        [8019,2619,0,5836,4939],\n",
    "        [3652,6317,5836,0,7825],\n",
    "        [10545,2078,4939,7825,0]\n",
    "    ]\n",
    "\n",
    "# https://timeforchange.org/co2-emissions-shipping-goods\n",
    "# assume 20g per km per metric ton (of pineapples)\n",
    "\n",
    "co2 = 0.020\n",
    "\n",
    "# DATA BLOCK ENDS\n",
    "\n",
    "# these variables are initialised to nonsensical values\n",
    "# your program should determine the correct values for them\n",
    "smallest = 1000000\n",
    "bestroute = [0, 0, 0, 0, 0]\n",
    "\n",
    "def permutations(route, ports):\n",
    "    # write the recursive function here\n",
    "    # remember to calculate the emissions of the route as the recursion ends\n",
    "    # and keep track of the route with the lowest emissions\n",
    "    pass\n",
    "\n",
    "def main():\n",
    "    # Do not edit any (global) variables using this function, as it will mess up the testing\n",
    "\n",
    "    # this will start the recursion \n",
    "    permutations([0], list(range(1, len(portnames))))\n",
    "\n",
    "    # print the best route and its emissions\n",
    "    print(' '.join([portnames[i] for i in bestroute]) + \" %.1f kg\" % smallest)\n",
    "\n",
    "main()\n"
   ]
  },
  {
   "cell_type": "code",
   "execution_count": 16,
   "metadata": {},
   "outputs": [
    {
     "name": "stdout",
     "output_type": "stream",
     "text": [
      "PAN NYC CAS AMS HEL 283.7 kg\n"
     ]
    }
   ],
   "source": [
    "portnames = [\"PAN\", \"AMS\", \"CAS\", \"NYC\", \"HEL\"]\n",
    "\n",
    "# https://sea-distances.org/\n",
    "# nautical miles converted to km\n",
    "\n",
    "D = [\n",
    "        [0,8943,8019,3652,10545],\n",
    "        [8943,0,2619,6317,2078],\n",
    "        [8019,2619,0,5836,4939],\n",
    "        [3652,6317,5836,0,7825],\n",
    "        [10545,2078,4939,7825,0]\n",
    "    ]\n",
    "\n",
    "# https://timeforchange.org/co2-emissions-shipping-goods\n",
    "# assume 20g per km per metric ton (of pineapples)\n",
    "\n",
    "co2 = 0.020\n",
    "\n",
    "# DATA BLOCK ENDS\n",
    "\n",
    "# these variables are initialised to nonsensical values\n",
    "# your program should determine the correct values for them\n",
    "smallest = 1000000\n",
    "bestroute = [0, 0, 0, 0, 0]\n",
    "\n",
    "\n",
    "def permutations(route, ports):\n",
    "    global smallest, bestroute\n",
    "    if len(ports) < 1:\n",
    "        distance = D[route[0]][route[1]] + D[route[1]][route[2]] + D[route[2]][route[3]] + D[route[3]][route[4]]\n",
    "        emissions = distance * co2\n",
    "        smallest = min(smallest, emissions)\n",
    "        if smallest == emissions:\n",
    "            bestroute = route\n",
    "        # if emissions < smallest: # avoiding min()\n",
    "        #     bestroute = route\n",
    "        #     smallest = emissions\n",
    "        # print(' '.join([portnames[i] for i in route]) + \" %.1f kg\" % emissions)\n",
    "    else:\n",
    "        for i in range(len(ports)):\n",
    "            permutations(route+[ports[i]], ports[:i]+ports[i+1:])\n",
    "\n",
    "\n",
    "def main():\n",
    "    # Do not edit any (global) variables using this function, as it will mess up the testing\n",
    "\n",
    "    # this will start the recursion\n",
    "    permutations([0], list(range(1, len(portnames))))\n",
    "\n",
    "    # print the best route and its emissions\n",
    "    print(' '.join([portnames[i] for i in bestroute]) + \" %.1f kg\" % smallest)\n",
    "\n",
    "main()\n"
   ]
  },
  {
   "cell_type": "code",
   "execution_count": 17,
   "metadata": {},
   "outputs": [
    {
     "name": "stdout",
     "output_type": "stream",
     "text": [
      "PAN NYC CAS AMS HEL 283.7 kg\n"
     ]
    }
   ],
   "source": [
    "# Example solution\n",
    "\n",
    "portnames = [\"PAN\", \"AMS\", \"CAS\", \"NYC\", \"HEL\"]\n",
    "\n",
    "D = [\n",
    "        [0,8943,8019,3652,10545],\n",
    "        [8943,0,2619,6317,2078],\n",
    "        [8019,2619,0,5836,4939],\n",
    "        [3652,6317,5836,0,7825],\n",
    "        [10545,2078,4939,7825,0]\n",
    "    ]\n",
    "\n",
    "co2 = 0.020\n",
    "\n",
    "smallest = 1000000\n",
    "bestroute = None\n",
    "\n",
    "def permutations(route, ports):\n",
    "    global smallest, bestroute\n",
    "    if len(ports) < 1:\n",
    "        score = co2 * sum(D[i][j] for i, j in zip(route[:-1], route[1:]))\n",
    "        if score < smallest:\n",
    "            smallest = score\n",
    "            bestroute = route\n",
    "    else:\n",
    "        for i in range(len(ports)):\n",
    "            permutations(route+[ports[i]], ports[:i]+ports[i+1:])\n",
    "\n",
    "def main():\n",
    "    permutations([0], list(range(1, len(portnames))))\n",
    "\n",
    "    print(' '.join([portnames[i] for i in bestroute]) + \" %.1f kg\" % smallest)\n",
    "\n",
    "main()"
   ]
  }
 ],
 "metadata": {
  "kernelspec": {
   "display_name": "Python 3",
   "language": "python",
   "name": "python3"
  },
  "language_info": {
   "codemirror_mode": {
    "name": "ipython",
    "version": 3
   },
   "file_extension": ".py",
   "mimetype": "text/x-python",
   "name": "python",
   "nbconvert_exporter": "python",
   "pygments_lexer": "ipython3",
   "version": "3.11.6"
  }
 },
 "nbformat": 4,
 "nbformat_minor": 2
}
