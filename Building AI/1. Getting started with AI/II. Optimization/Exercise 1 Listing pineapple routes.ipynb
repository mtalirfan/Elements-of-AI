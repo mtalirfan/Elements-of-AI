{
 "cells": [
  {
   "cell_type": "markdown",
   "metadata": {},
   "source": [
    "# Exercise 1: Listing pineapple routes"
   ]
  },
  {
   "cell_type": "markdown",
   "metadata": {},
   "source": [
    "## An example optimization task\n",
    "Traveling Salesperson Problem (TSP)\n",
    "\n",
    "Imagine that you've been assigned the task to plan the route of a container ship loaded with pineapples. The ship starts in Panama, loaded with delicious Fairtrade pineapples. There are four other ports, New York, Casablanca, Amsterdam, and Helsinki, where pineapple-craving citizens are eagerly waiting. The ship must visit each of the four destination ports exactly once, but the order in which each port is visited is free. The goal is to minimize the carbon emissions, which means that a shorter route is better than a longer one.\n",
    "\n",
    "To solve this problem, it is enough to list all the possible routes that start from Panama and visit each of the other ports exactly once, calculate the carbon emissions of each route, and print out the one with the least emissions.\n",
    "\n",
    "Let's consider each stage separately, starting from listing all the possible alternatives. The term used by programmers is enumerate. So we'll first enumerate all the possible routes. Those of you who are well-versed in combinatorics (the part of mathematics that deals with combinations of finite sets of objects) will know that the number of routes is 4×3×2×1=24."
   ]
  },
  {
   "cell_type": "markdown",
   "metadata": {},
   "source": [
    "## Beginner\n",
    "\n",
    "How many routes would there be if all the people in Helsinki were allergic to pineapple? In other words, what is the number of routes from a given starting point to three other ports (instead of four)?\n",
    "\n",
    "6\n",
    "\n",
    "The formula for counting the number of routes is 1 x 2 x 3 x ... where the last number is the number of ports, not including the starting points. So if there are three other ports, the number is 1 x 2 x 3 = 6."
   ]
  },
  {
   "cell_type": "markdown",
   "metadata": {},
   "source": [
    "## Intermediate\n",
    "\n",
    "In this exercise you need to list all the possible routes that start from Panama and visit each of the other ports exactly once.\n",
    "\n",
    "Have a look at the program further down the page. Go ahead and run it. You'll see that the first thing it prints is PAN AMS AMS AMS AMS. Nice for the sailors but bad for pineapple lovers anywhere else but Amsterdam.\n",
    "\n",
    "Each port is denoted by a number instead of a string: PAN is 0, AMS is 1 and so on. It is often easier to work with integer numbers instead of strings when programming. Keep this mapping in mind when we interpret the results of the program.\n",
    "\n",
    "Fix the program by adding an if statement that checks that the route includes all of the ports. In other words, check that each of the numbers 0, 1, 2, 3, 4 are included in the list route.\n",
    "\n",
    "Do not change the print statement given in the template (although you can add more print statements for debugging purposes).\n",
    "\n",
    "Output Example\n",
    "\n",
    "PAN AMS CAS NYC HEL\n",
    "\n",
    "...\n",
    "\n",
    "PAN CAS AMS NYC HEL\n",
    "\n",
    "Tip: Your values might be different, but the formatting should be identical.\n",
    "\n",
    "Note that there is no need to check that no port appears twice. If that were the case, then the route couldn't include all the five ports."
   ]
  },
  {
   "cell_type": "code",
   "execution_count": 12,
   "metadata": {},
   "outputs": [
    {
     "name": "stdout",
     "output_type": "stream",
     "text": [
      "PAN AMS CAS NYC HEL\n",
      "PAN AMS CAS HEL NYC\n",
      "PAN AMS NYC CAS HEL\n",
      "PAN AMS NYC HEL CAS\n",
      "PAN AMS HEL CAS NYC\n",
      "PAN AMS HEL NYC CAS\n",
      "PAN CAS AMS NYC HEL\n",
      "PAN CAS AMS HEL NYC\n",
      "PAN CAS NYC AMS HEL\n",
      "PAN CAS NYC HEL AMS\n",
      "PAN CAS HEL AMS NYC\n",
      "PAN CAS HEL NYC AMS\n",
      "PAN NYC AMS CAS HEL\n",
      "PAN NYC AMS HEL CAS\n",
      "PAN NYC CAS AMS HEL\n",
      "PAN NYC CAS HEL AMS\n",
      "PAN NYC HEL AMS CAS\n",
      "PAN NYC HEL CAS AMS\n",
      "PAN HEL AMS CAS NYC\n",
      "PAN HEL AMS NYC CAS\n",
      "PAN HEL CAS AMS NYC\n",
      "PAN HEL CAS NYC AMS\n",
      "PAN HEL NYC AMS CAS\n",
      "PAN HEL NYC CAS AMS\n"
     ]
    }
   ],
   "source": [
    "def main():\n",
    "    portnames = [\"PAN\", \"AMS\", \"CAS\", \"NYC\", \"HEL\"]\n",
    "\n",
    "    port1 = 0\n",
    "    for port2 in range(1, 5):\n",
    "        for port3 in range(1, 5):\n",
    "            for port4 in range(1, 5):\n",
    "                for port5 in range(1, 5):\n",
    "                    route = [port1, port2, port3, port4, port5]\n",
    "\n",
    "                    # Modify this if statement to check if the route is valid\n",
    "                    if (all(x in route for x in [0, 1, 2, 3, 4])): # True | all(x in route for x in [0, 1, 2, 3, 4]) | all(x in route for x in range(5)) | 0 in route and 1 in route and 2 in route and 3 in route and 4 in route | set(route) == set(range(5))\n",
    "                        # do not modify this print statement\n",
    "                        print(' '.join([portnames[i] for i in route]))\n",
    "\n",
    "main()"
   ]
  },
  {
   "cell_type": "markdown",
   "metadata": {},
   "source": [
    "Adding the following long if statement\n",
    "\n",
    "if (0 in route and 1 in route and 2 in route and 3 in route and 4 in route):\n",
    "\n",
    "before the print statement does the job. You don't really have to check that 0 is included because it is always the starting point but it's good programming style to rather do more checks than too few in order to ensure that the program works even if we modify it later.\n",
    "a pro style tip: you can check that the route includes all ports (numbered 0, 1, ..., 4) easily by using Python sets. The clumsy if statement in the example solution can be replaced by the much more elegant one:\n",
    "\n",
    "if set(route) == set(range(5)):"
   ]
  },
  {
   "cell_type": "markdown",
   "metadata": {},
   "source": [
    "## Advanced\n",
    "\n",
    "In this exercise you need to list all the possible routes that start from Panama and visit each of the other ports exactly once.\n",
    "\n",
    "The template code below contains an incomplete permutations function which takes as input a specified route and a list of port names absent from that route. Modify the function so that it prints out all the possible orderings of the ports that always begin with Panama (PAN).\n",
    "\n",
    "The mathematical term for such orderings is a permutation. Note that your program should work for an input portnames list of any length. The order in which the permutations are printed doesn't matter.\n",
    "\n",
    "As the output the function should print each permutation on its own row, as one string, with the port names separated by spaces. For this, you can use the join function as follows: print(' '.join([portnames[i] for i in route])).\n",
    "\n",
    "Output Example\n",
    "\n",
    "PAN AMS CAS NYC HEL\n",
    "\n",
    "...\n",
    "\n",
    "PAN CAS AMS NYC HEL\n",
    "\n",
    "Tip: Your values might be different, but the formatting should be identical.\n",
    "\n",
    "The easiest way to do this is by the programming technique called recursion. If you are not familiar with it, this is a nice opportunity to learn (see for example here). The trick is to start the recursion with the empty list, which we can call route. The recursive function should involve a for loop that goes through the available ports and for each port:\n",
    "\n",
    "- appends it to the list route\n",
    "- removes it from the list of available ports, and\n",
    "- calls the same function with the remaining ports\n",
    "\n",
    "When the function is called with an empty list of ports, the recursion should stop and print out the list route.\n",
    "\n",
    "It'll be easiest to work with integer indexes instead of the port names.\n",
    "\n",
    "So for example, if we start the recursion with route = [0] and ports = [1, 2, 3, 4], meaning that the first stop is always Panama, the first thing to do is to try each of the ports after the 1 in the route to get, for example, route = [0, 3] and continue the recursion with the remaining ports, for example, [1, 2, 4]. To remove item i from the list, you can write ports[:i]+ports[i+1:]."
   ]
  },
  {
   "cell_type": "code",
   "execution_count": 20,
   "metadata": {},
   "outputs": [
    {
     "name": "stdout",
     "output_type": "stream",
     "text": [
      "PAN\n"
     ]
    }
   ],
   "source": [
    "portnames = [\"PAN\", \"AMS\", \"CAS\", \"NYC\", \"HEL\"]\n",
    " \n",
    "def permutations(route, ports):\n",
    "    # Write your recursive code here\n",
    "    \n",
    "    # Print the port names in route when the recursion terminates\n",
    "    print(' '.join([portnames[i] for i in route]))\n",
    "\n",
    "\n",
    "# This will start the recursion with 0 (\"PAN\") as the first stop\n",
    "permutations([0], list(range(1, len(portnames))))\n"
   ]
  },
  {
   "cell_type": "code",
   "execution_count": 35,
   "metadata": {},
   "outputs": [
    {
     "name": "stdout",
     "output_type": "stream",
     "text": [
      "PAN AMS CAS NYC HEL\n",
      "PAN AMS CAS HEL NYC\n",
      "PAN AMS NYC CAS HEL\n",
      "PAN AMS NYC HEL CAS\n",
      "PAN AMS HEL CAS NYC\n",
      "PAN AMS HEL NYC CAS\n",
      "PAN CAS AMS NYC HEL\n",
      "PAN CAS AMS HEL NYC\n",
      "PAN CAS NYC AMS HEL\n",
      "PAN CAS NYC HEL AMS\n",
      "PAN CAS HEL AMS NYC\n",
      "PAN CAS HEL NYC AMS\n",
      "PAN NYC AMS CAS HEL\n",
      "PAN NYC AMS HEL CAS\n",
      "PAN NYC CAS AMS HEL\n",
      "PAN NYC CAS HEL AMS\n",
      "PAN NYC HEL AMS CAS\n",
      "PAN NYC HEL CAS AMS\n",
      "PAN HEL AMS CAS NYC\n",
      "PAN HEL AMS NYC CAS\n",
      "PAN HEL CAS AMS NYC\n",
      "PAN HEL CAS NYC AMS\n",
      "PAN HEL NYC AMS CAS\n",
      "PAN HEL NYC CAS AMS\n"
     ]
    }
   ],
   "source": [
    "portnames = [\"PAN\", \"AMS\", \"CAS\", \"NYC\", \"HEL\"]\n",
    "# global route\n",
    "\n",
    "def permutations(route, ports):\n",
    "    if len(ports) < 1:\n",
    "        print(' '.join([portnames[i] for i in route]))\n",
    "        # print(route)\n",
    "    else:\n",
    "        for i in range(len(ports)):\n",
    "            permutations(route+[ports[i]], ports[:i]+ports[i+1:])\n",
    "\n",
    "# This will start the recursion with 0 (\"PAN\") as the first stop\n",
    "permutations([0], list(range(1, len(portnames))))\n",
    "\n",
    "# print(list(range(1, len(portnames))))\n"
   ]
  },
  {
   "cell_type": "code",
   "execution_count": null,
   "metadata": {},
   "outputs": [],
   "source": [
    "# Example Solution:\n",
    "\n",
    "def permutations(route, ports):\n",
    "    if len(ports) < 1:\n",
    "        print(' '.join([portnames[i] for i in route]))\n",
    "    else:\n",
    "        for i in range(len(ports)):\n",
    "            permutations(route+[ports[i]], ports[:i]+ports[i+1:])\n",
    "\n",
    "permutations([0], list(range(1, len(portnames))))"
   ]
  }
 ],
 "metadata": {
  "kernelspec": {
   "display_name": "Python 3",
   "language": "python",
   "name": "python3"
  },
  "language_info": {
   "codemirror_mode": {
    "name": "ipython",
    "version": 3
   },
   "file_extension": ".py",
   "mimetype": "text/x-python",
   "name": "python",
   "nbconvert_exporter": "python",
   "pygments_lexer": "ipython3",
   "version": "3.11.6"
  }
 },
 "nbformat": 4,
 "nbformat_minor": 2
}
