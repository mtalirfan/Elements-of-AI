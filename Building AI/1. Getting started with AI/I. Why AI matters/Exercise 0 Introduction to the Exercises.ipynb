{
 "cells": [
  {
   "cell_type": "markdown",
   "metadata": {},
   "source": [
    "# Exercise 0: Introduction to the Exercises"
   ]
  },
  {
   "cell_type": "markdown",
   "metadata": {},
   "source": [
    "## Beginner\n",
    "\n",
    "Beginner level exercises are the only ones you can do on a mobile device. The exercises at this level are multiple choice questions. You can view and complete Intermediate and Advanced exercises only on a computer.\n",
    "\n",
    "It is possible to move freely between the different difficulty levels. You can complete exercises in any order (however, you will notice that the course is much easier if you don't skip exercises). We encourage you to give the more difficult exercises a try, if you have even a slight idea of coding!"
   ]
  },
  {
   "cell_type": "markdown",
   "metadata": {},
   "source": [
    "## Intermediate\n",
    "\n",
    "The intermediate exercise involve coding: either so that you get to modify existing code and write your own, or in a few cases, answer multiple choice quizzes involving code examples.\n",
    "\n",
    "Remember that you can move freely between the difficulty levels. If the intermediate exercise seems difficult, you can do the Beginner exercise first. Sometimes solving the Beginner exercise may help you understand the idea and get going with the coding exercises. Having completed an Intermediate exercise, you can challenge yourself and give the Advanced exercise a go! You can also return to it later at any time.\n",
    "\n",
    "Let's first learn how the coding exercises are done and submitted. Go ahead and experiment with the code editor below. You can't break it! This exercise doesn't give you points, so you don't have to worry about losing any points.\n",
    "\n",
    "The Reset below the code window enable you to reset the code back to square one. The initial code in the code window often contains a partial solution.\n",
    "\n",
    "The Run button runs the code. If your code contains any print statements, you should see the output in the separate 'Output' window (see below). Any error messages will also be displayed there. Be prepared for a small delay when you click Run for the first time as your browser sets up the coding environment."
   ]
  },
  {
   "cell_type": "code",
   "execution_count": 6,
   "metadata": {},
   "outputs": [
    {
     "name": "stdout",
     "output_type": "stream",
     "text": [
      "Welcome Tal!\n"
     ]
    }
   ],
   "source": [
    "# you can define your own functions\n",
    "def greet(name):\n",
    "    print(\"Welcome \" + name + \"!\")\n",
    "\n",
    "# go ahead and enter your own name in variable 'name' below to get a warm welcome from us.\n",
    "\n",
    "def main():\n",
    "    name = \"Tal\"\n",
    "    greet(name)\n",
    "\n",
    "main()"
   ]
  },
  {
   "cell_type": "markdown",
   "metadata": {},
   "source": [
    "We hope you're having fun! Remember that finding errors in your code, or \"debugging\", is a bit like detective work. You should start by reading the comments in the code. They usually contain important hints that will help you solve the exercise.\n",
    "\n",
    "The Test button will run your code and do some checks to see whether your solutions does what it's supposed to do. The output will either indicate that the tests are successful (for example, 'Ran X tests in Y s. OK') or not ('Assertion error 'Welcome Emma!' != 'Welcome to Building AI!'...FAILED'). It may sometimes be hard to identify what exactly went wrong, but you should just carefully read the problem statement again, look for hints in the comments, and try to figure out what went wrong.\n",
    "\n",
    "Some of the exercises involve graphical output. These exercises have an additional Plot button like below. Since we don't cover graphics and plotting in the course, the code that does the plotting is usually hidden behind the scenes, so you'll only need to click the Plot button to see the outcome. Note that it may sometimes take a while to see the outcome when you click Plot for the first time."
   ]
  },
  {
   "cell_type": "code",
   "execution_count": 1,
   "metadata": {},
   "outputs": [
    {
     "name": "stderr",
     "output_type": "stream",
     "text": [
      "Matplotlib is building the font cache; this may take a moment.\n"
     ]
    },
    {
     "data": {
      "text/plain": [
       "<matplotlib.image.AxesImage at 0x1671f6c1a10>"
      ]
     },
     "execution_count": 1,
     "metadata": {},
     "output_type": "execute_result"
    },
    {
     "data": {
      "image/png": "[encoded data removed]",
      "text/plain": [
       "<Figure size 300x500 with 1 Axes>"
      ]
     },
     "metadata": {},
     "output_type": "display_data"
    }
   ],
   "source": [
    "import numpy as np\n",
    "import matplotlib.pyplot as plt\n",
    "# generate a 30-by-50 array of random numbers\n",
    "x = np.random.rand(30, 50)\n",
    "# the following code that will plot the numbers as colors would normally\n",
    "# be hidden from you, so again, you won't have to worry about it.\n",
    "# try clicking the 'Plot' button to see the outcome.\n",
    "plt.figure(figsize=(3,5))\n",
    "plt.axis('off')\n",
    "plt.imshow(x, cmap='Set3')"
   ]
  },
  {
   "cell_type": "markdown",
   "metadata": {},
   "source": [
    "Finally, once you successfully pass all the tests, your answer will be automatically submitted. As a summary: remember to click the test button often, because the test feedback will help you debug the code, and only correct answers will be submitted. When the answer is submitted, you'll get the points from the exercise (except for this one: Exercise 0 is not included in the course assessment)."
   ]
  },
  {
   "cell_type": "code",
   "execution_count": null,
   "metadata": {},
   "outputs": [],
   "source": [
    "# you can define your own functions\n",
    "def greet(name):\n",
    "    print(\"Welcome \" + name + \"!\")\n",
    "\n",
    "# go ahead and enter your own name in variable 'name' below to get a warm welcome from us.\n",
    "# to pass the test, you should change the name to \"to Building AI\" (note the word 'to')\n",
    "def main():\n",
    "    name = \"to Building AI\" # Emma\n",
    "    greet(name)\n",
    "\n",
    "main()"
   ]
  },
  {
   "cell_type": "markdown",
   "metadata": {},
   "source": [
    "# Advanced\n",
    "\n",
    "Welcome to your first coding exercise. Please read the instructions in the Intermediate exercise. You can switch between the exercise levels at any time and as many times as you like.\n",
    "\n",
    "The Advanced exercises differ from the Intermediate ones mainly by the amount of code we provide to start with. In the Intermediate exercises, you are mostly expected to modify a small part of the code, while in the Advanced exercise, you may need to start from scratch.\n",
    "\n",
    "In all the coding exercises, all the usual tricks apply:\n",
    "\n",
    "- read the problem statement and the comments in the provided code carefully\n",
    "\n",
    "- write code in small bits and run often\n",
    "\n",
    "- feel free to add print statements to see what's going on in the code\n",
    "\n",
    "- click the test button as many times as needed: the test feedback may help you with debugging\n",
    "\n",
    "Note: if the code template contains functions, it's important to keep their input and output formats the way they are given. The same applies to print statements in case the program is expected produce printed output."
   ]
  },
  {
   "cell_type": "code",
   "execution_count": 5,
   "metadata": {},
   "outputs": [
    {
     "name": "stdout",
     "output_type": "stream",
     "text": [
      "720\n"
     ]
    }
   ],
   "source": [
    "# Solving this exercise will be helpful in the first actual exercise\n",
    "# (Exercise 1), so consider using this as an opportunity to warm up.\n",
    "#\n",
    "# Your task is the define a function that returns the so called\n",
    "# factorial: for any non-negative integer n, the factorial is defined\n",
    "# as 1 * 2 * ... * n. For example, factorial(5) = 1*2*3*4*5 = 120.\n",
    "#\n",
    "# Hint: the simplest way to compute the factorial is to use a\n",
    "# recursive function, or in other words, a function that calls\n",
    "# itself as in\n",
    "#     factorial(n) = n * factorial(n-1)\n",
    "# The recursion should terminate at factorial(0) = 1 so that we\n",
    "# don't create an infinite loop.\n",
    "def factorial(n):\n",
    "    if n == 0:\n",
    "        return 1\n",
    "    else:\n",
    "        return n * factorial(n - 1)  # None <-- replace this with the recursive call\n",
    "\n",
    "print(factorial(6))              # this should print 720"
   ]
  }
 ],
 "metadata": {
  "kernelspec": {
   "display_name": "Python 3",
   "language": "python",
   "name": "python3"
  },
  "language_info": {
   "codemirror_mode": {
    "name": "ipython",
    "version": 3
   },
   "file_extension": ".py",
   "mimetype": "text/x-python",
   "name": "python",
   "nbconvert_exporter": "python",
   "pygments_lexer": "ipython3",
   "version": "3.11.6"
  }
 },
 "nbformat": 4,
 "nbformat_minor": 2
}
