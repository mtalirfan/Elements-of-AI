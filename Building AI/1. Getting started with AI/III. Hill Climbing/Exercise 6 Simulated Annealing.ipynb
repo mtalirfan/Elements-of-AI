{
 "cells": [
  {
   "cell_type": "markdown",
   "metadata": {},
   "source": [
    "# Exercise 6: Simulated Annealing"
   ]
  },
  {
   "cell_type": "markdown",
   "metadata": {},
   "source": [
    "## Beginner\n",
    "\n",
    "To understand what role temperature plays, it's worthwhile to pause here for a second to think about and answer the following questions:\n",
    "\n",
    "What happens when we increase the temperature value to a ridiculously large number?\n",
    "\n",
    "we accept all new solutions\n",
    "\n",
    "What happens if we set the temperature as close as possible to 0?\n",
    "\n",
    "we only accept new solutions when they are better than the current one"
   ]
  },
  {
   "cell_type": "markdown",
   "metadata": {},
   "source": [
    "## Intermediate\n",
    "\n",
    "1D simulated annealing: modify the program below to use simulated annealing instead of plain hill climbing. In simulated annealing the probability of accepting a solution that lowers the score is given by prob = exp(-(S_old - S_new)/T). Setting the temperature T and gradually decreasing can be done in many ways, some of which lead to better outcomes than others. A good choice in this case is for example: T = 2*max(0, ((steps-step*1.2)/steps))**3.\n",
    "\n",
    "Running the code produces something like the following chart, where the black box marks the starting point. The code below uses the plain hill-climbing strategy to only go up towards a peak. The solution is marked by a red star. As you can see, the hill-climbing strategy tends to get stuck in local optima.\n",
    "\n",
    "Your task is to modify the code to use simulated annealing. Use the cooling schedule for setting the temperature provided above, and modify the acceptance criterion from only accepting upward moves to accepting also downward moves with the proper probability. Remember that in this exercise the score in simulated annealing is the height of a given location on the mountain. Also note that you will need to handle T=0 case separately, since the acceptance probability for a worse score should be zero for zero temperature, but the formula used for the probability will result in division by zero.\n",
    "\n",
    "If plotting the code takes too long, use this [gist](https://gist.github.com/AayushKucheria/00912c1fe1d60ae01052f0c905c606e2) to plot the code locally on your computer. It should be significantly faster."
   ]
  },
  {
   "cell_type": "code",
   "execution_count": 22,
   "metadata": {},
   "outputs": [
    {
     "name": "stdout",
     "output_type": "stream",
     "text": [
      "ended up at 9798, highest point is 9798\n"
     ]
    }
   ],
   "source": [
    "import math, random        \t# just for generating random mountains\n",
    "import numpy as np\n",
    "\n",
    "n = 10000 # size of the problem: number of possible solutions x = 0, ..., n-1\n",
    "\n",
    "# generate random mountains\n",
    "def mountains(n):\n",
    "    h = [0]*n\n",
    "    for i in range(50):\n",
    "        c = random.randint(20, n-20)\n",
    "        w = random.randint(3, int(math.sqrt(n/5)))**2\n",
    "        s = random.random()\n",
    "        h[max(0, c-w):min(n, c+w)] = [h[i] + s*(w-abs(c-i)) for i in range(max(0, c-w), min(n, c+w))]\n",
    "\n",
    "    # scale the height so that the lowest point is 0.0 and the highest peak is 1.0\n",
    "    low = min(h)\n",
    "    high = max(h)\n",
    "    h = [y - low for y in h]\n",
    "    h = [y / (high-low) for y in h]\n",
    "    return h\n",
    "\n",
    "h = mountains(n)\n",
    "\n",
    "# start at a random place\n",
    "x0 = random.randint(1, n-1)\n",
    "x = x0\n",
    "\n",
    "# keep climbing for 5000 steps\n",
    "steps = 5000\n",
    "\n",
    "def main(h, x):\n",
    "    n = len(h)\n",
    "    # the climbing starts here\n",
    "    for step in range(steps):\n",
    "        # this is our temperature to to be used for simulated annealing\n",
    "        # it starts large and decreases with each step. you don't have to change this\n",
    "        T = 2*max(0, ((steps-step*1.2)/steps))**3\n",
    "\n",
    "        # let's try randomly moving (max. 1000 steps) left or right\n",
    "        # making sure we don't fall off the edge of the world at 0 or n-1\n",
    "        # the height at this point will be our candidate score, S_new\n",
    "        # while the height at our current location will be S_old\n",
    "        x_new = random.randint(max(0, x-1000), min(n-1, x+1000))\n",
    "\n",
    "        if h[x_new] > h[x]:\n",
    "            x = x_new           # the new position is higher, go there\n",
    "        else:\n",
    "            if T == 0:\n",
    "                pass\n",
    "            else:\n",
    "                prob = math.exp(-(h[x] - h[x_new]) / T)             # add simulated annealing here. remember to handle T=0\n",
    "                if random.random() < prob:                          # correctly!\n",
    "                    x = x_new\n",
    "    return x\n",
    "\n",
    "x = main(h, x0)\n",
    "print(\"ended up at %d, highest point is %d\" % (x, np.argmax(h)))\n"
   ]
  },
  {
   "cell_type": "markdown",
   "metadata": {},
   "source": [
    "## Advanced\n",
    "\n",
    "Let's use simulated annealing to solve a simple two-dimensional optimization problem. The following code runs 50 optimization tracks in parallel (at the same time). It currently only looks around the current solution and only accepts moves that go up. Modify the program so that it uses simulated annealing.\n",
    "\n",
    "Remember that the probability of accepting a solution that lowers the score is given by prob = exp(–(S_old - S_new)/T). Remember to also adjust the temperature in a way that it decreases as the simulation goes on, and to handle T=0 case correctly.\n",
    "\n",
    "Your goal is to ensure that on the average, at least 30 of the optimization tracks find the global optimum (the highest peak).\n",
    "\n",
    "If plotting the code takes too long, use this [gist](https://gist.github.com/AayushKucheria/00912c1fe1d60ae01052f0c905c606e2) to plot the code locally on your computer. It should be significantly faster.\n",
    "\n",
    "Hint:\n",
    "\n",
    "You can experiment with different cooling schedules. One example that should work okay is T = max(0, ((steps - step)/steps)**3-.005) where step is the current iteration and steps is the total number of iterations. You don't have to change the number of iterations from steps = 3000."
   ]
  },
  {
   "cell_type": "code",
   "execution_count": 29,
   "metadata": {},
   "outputs": [
    {
     "name": "stdout",
     "output_type": "stream",
     "text": [
      "39\n"
     ]
    }
   ],
   "source": [
    "import numpy as np\n",
    "import math, random\n",
    "\n",
    "N = 100     # size of the problem is N x N\n",
    "steps = 3000    # total number of iterations\n",
    "tracks = 50\n",
    "\n",
    "# generate a landscape with multiple local optima\n",
    "def generator(x, y, x0=0.0, y0=0.0):\n",
    "    return np.sin((x/N-x0)*np.pi)+np.sin((y/N-y0)*np.pi)+\\\n",
    "        .07*np.cos(12*(x/N-x0)*np.pi)+.07*np.cos(12*(y/N-y0)*np.pi)\n",
    "\n",
    "x0 = np.random.random() - 0.5\n",
    "y0 = np.random.random() - 0.5\n",
    "h = np.fromfunction(np.vectorize(generator), (N, N), x0=x0, y0=y0, dtype=int)\n",
    "peak_x, peak_y = np.unravel_index(np.argmax(h), h.shape)\n",
    "\n",
    "# starting points\n",
    "x = np.random.randint(0, N, tracks)\n",
    "y = np.random.randint(0, N, tracks)\n",
    "\n",
    "def main():\n",
    "    global x\n",
    "    global y\n",
    "\n",
    "    for step in range(steps):\n",
    "        # add a temperature schedule here\n",
    "        T = max(0, ((steps - step)/steps)**3-.005)\n",
    "        # update solutions on each search track\n",
    "        for i in range(tracks):\n",
    "            # try a new solution near the current one\n",
    "            x_new = np.random.randint(max(0, x[i]-2), min(N, x[i]+2+1))\n",
    "            y_new = np.random.randint(max(0, y[i]-2), min(N, y[i]+2+1))\n",
    "            S_old = h[x[i], y[i]]\n",
    "            S_new = h[x_new, y_new]\n",
    "\n",
    "            # change this to use simulated annealing\n",
    "            if S_new > S_old:\n",
    "                x[i], y[i] = x_new, y_new   # new solution is better, go there\n",
    "            else:\n",
    "                if T == 0:\n",
    "                    pass\n",
    "                else:\n",
    "                    prob = math.exp(-(S_old - S_new) / T)             # add simulated annealing here. remember to handle T=0\n",
    "                    if random.random() < prob:                          # correctly!\n",
    "                        x[i], y[i] = x_new, y_new\n",
    "\n",
    "    # Number of tracks found the peak\n",
    "    print(sum([x[j] == peak_x and y[j] == peak_y for j in range(tracks)]))\n",
    "\n",
    "main()\n"
   ]
  }
 ],
 "metadata": {
  "kernelspec": {
   "display_name": "Python 3",
   "language": "python",
   "name": "python3"
  },
  "language_info": {
   "codemirror_mode": {
    "name": "ipython",
    "version": 3
   },
   "file_extension": ".py",
   "mimetype": "text/x-python",
   "name": "python",
   "nbconvert_exporter": "python",
   "pygments_lexer": "ipython3",
   "version": "3.11.6"
  }
 },
 "nbformat": 4,
 "nbformat_minor": 2
}
