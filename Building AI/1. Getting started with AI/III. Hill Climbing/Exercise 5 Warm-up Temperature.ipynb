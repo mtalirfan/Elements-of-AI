{
 "cells": [
  {
   "cell_type": "markdown",
   "metadata": {},
   "source": [
    "# Exercise 5: Warm-up Temperature"
   ]
  },
  {
   "cell_type": "markdown",
   "metadata": {},
   "source": [
    "## Beginner\n",
    "\n",
    "Let’s work with the acceptance probability above exp(–(S_old – S_new)/T).\n",
    "\n",
    "Note: don’t worry about the math, your computer can do the actual calculation – you’ll just need to fill in the right numbers.\n",
    "\n",
    "Suppose our system has a current “score” where S_old has the value of 205 (for example, our score could be height in meters if we are literally talking about hill climbing example). The score we want (S_new) should have a value of 196. We have set our temperature T at 5.\n",
    "\n",
    "Using simulated annealing, there is a possibility for us to accept this new score even if it is not immediately higher in score than the current score.\n",
    "\n",
    "In this situation, what’s the probability we will choose the new score?\n",
    "\n",
    "Hint: You can calculate these formulas using most web browsers by typing the equations in the search bar.\n",
    "\n",
    "Select the correct answer\n",
    "\n",
    "0.17\n",
    "\n",
    "You can calculate these formulas using most web browsers by typing the equations in the search bar. So for example, to calculate the acceptance probability when S_old = 205 and S_new = 196, and temperature T=5, you can just copy-paste the text exp(-(205-196)/5) into your browser to get the result that is about 0.16529.You can calculate these formulas using most web browsers by typing the equations in the search bar. So for example, to calculate the acceptance probability when S_old = 154 and S_new = 149, and temperature T=5, you can just copy-paste the text exp(-(154-149)/5) into your browser to get the result that is about 0.3679."
   ]
  },
  {
   "cell_type": "markdown",
   "metadata": {},
   "source": [
    "## Intermediate\n",
    "\n",
    "Let’s work with the acceptance probability above exp(–(S_old – S_new)/T).\n",
    "\n",
    "Suppose our our current solution has a score of S_old = 205. Our new solution would have a score of S_new = 196\n",
    "\n",
    "Using simulated annealing, there is a possibility for us to accept this new state even though it has a lower score than the current one.\n",
    "\n",
    "In this situation, what would the temperature T need to be in order to choose this new state with a probability of at least 0.5?\n",
    "\n",
    "Select the correct answer\n",
    "\n",
    "13 (12.984)\n",
    "\n",
    "You can calculate things using most search engines by typing in the equations. For example, if the difference between the scores was 2, and the temperature was 4, you could type in “exp(-2/4)” to get acceptance probability about 0.6065.\n",
    "\n"
   ]
  },
  {
   "cell_type": "markdown",
   "metadata": {},
   "source": [
    "## Advanced\n",
    "\n",
    "Suppose the current solution has score S_old = 150 and you try a small modification to create a new solution with score S_new = 140. In the greedy solution, this new solution wouldn't be accepted because it would mean a decrease in the score. In simulated annealing, the new solution is accepted with a certain probability as explained above.\n",
    "\n",
    "Modify the accept_prob function so that it returns the probability of accepting the new state using simulated annealing. The program should take the two score values (the current and the new) and the temperature value as arguments."
   ]
  },
  {
   "cell_type": "code",
   "execution_count": 21,
   "metadata": {},
   "outputs": [
    {
     "name": "stdout",
     "output_type": "stream",
     "text": [
      "True\n"
     ]
    }
   ],
   "source": [
    "import random\n",
    "import math\n",
    "\n",
    "def accept_prob(S_old, S_new, T):\n",
    "    # this is the acceptance \"probability\" in the greedy hill-climbing method\n",
    "    # where new solutions are accepted if and only if they are better\n",
    "    # than the old one.\n",
    "    # change it to be the acceptance probability in simulated annealing\n",
    "\n",
    "    if S_new > S_old:\n",
    "        return 1.0\n",
    "    else:\n",
    "        return math.exp(-(S_old - S_new) / T)\n",
    "\n",
    "# the above function will be used as follows. this is shown just for\n",
    "# your information; you don't have to change anything here\n",
    "def accept(S_old, S_new, T):\n",
    "    if random.random() < accept_prob(S_old, S_new, T):\n",
    "        print(True)\n",
    "    else:\n",
    "        print(False)\n",
    "\n",
    "accept(150, 140, 5)"
   ]
  },
  {
   "cell_type": "code",
   "execution_count": null,
   "metadata": {},
   "outputs": [],
   "source": [
    "import math, random\n",
    "\n",
    "def accept_prob(S_old, S_new, T):\n",
    "    if S_new > S_old:\n",
    "        return 1.0\n",
    "    else:\n",
    "        return math.exp((S_new - S_old)/T) # Or analogously, math.exp(-(S_old - S_new)/T)\n",
    "\n",
    "def accept(S_old, S_new, T):\n",
    "    if math.random() < accept_prob(S_old, S_new, T):\n",
    "        return True\n",
    "    else:\n",
    "        return False"
   ]
  }
 ],
 "metadata": {
  "kernelspec": {
   "display_name": "Python 3",
   "language": "python",
   "name": "python3"
  },
  "language_info": {
   "codemirror_mode": {
    "name": "ipython",
    "version": 3
   },
   "file_extension": ".py",
   "mimetype": "text/x-python",
   "name": "python",
   "nbconvert_exporter": "python",
   "pygments_lexer": "ipython3",
   "version": "3.11.6"
  }
 },
 "nbformat": 4,
 "nbformat_minor": 2
}
