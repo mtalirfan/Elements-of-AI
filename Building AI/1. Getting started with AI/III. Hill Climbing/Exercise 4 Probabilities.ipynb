{
 "cells": [
  {
   "cell_type": "markdown",
   "metadata": {},
   "source": [
    "# Exercise 4: Probabilities"
   ]
  },
  {
   "cell_type": "markdown",
   "metadata": {},
   "source": [
    "## Beginner\n",
    "\n",
    "We will use probability to make our optimization techniques better by helping them escape local optima. Consider the following small-scale example. The goal is to have a ball land at the lowest point, marked by B below, on a bumpy surface.\n",
    "\n",
    "Note that here lower is better, so we are doing the exact opposite of the hill climbing example where the goal was to go up.\n",
    "\n",
    "The ball is initially in point D, which is a local optimum. Suppose the you can shake the surface to make the ball bounce around. If you shake the surface gently, the ball will be unlikely to escape its initial position D. If you give the surface a single very strong jerk, the ball will bounce randomly and then roll down the hill to a local optimum which may or may not be the global optimum B.\n",
    "\n",
    "Which of the following shaking strategies you think will most likely succeed in having the ball land at the lowest point B after you stop?\n",
    "\n",
    "Shaking the surface first strongly and then gradually more gently will most likely succeed. If you start by shaking the surface gently, the ball will unlikely escape the local optimum D. On the other hand, if you shake the surface strongly at the end, the ball will bounce to a random position and the roll down to a local optimum. Starting with strong shaking will first have the ball bouncing randomly but then as you reduce the strength, the lower the position of the ball, the more unlikely it is to bounce over the high \"barriers\" around the local optima."
   ]
  },
  {
   "cell_type": "markdown",
   "metadata": {},
   "source": [
    "## Intermediate\n",
    "\n",
    "Recall the program that prints out the word 'dog' with 20% probability. Modify the program so that it prints either the word 'dog' or the word 'cat' (but never both, because either you're a dog person or a cat person, but not both, right?)\n",
    "\n",
    "Change the probability of the word 'dog' to be 80% probability (because apparently there are more dog lovers than cat lovers in the world) so that the probability of the word 'cat' is 20%."
   ]
  },
  {
   "cell_type": "code",
   "execution_count": 9,
   "metadata": {},
   "outputs": [
    {
     "name": "stdout",
     "output_type": "stream",
     "text": [
      "dog\n"
     ]
    }
   ],
   "source": [
    "import random\n",
    "\n",
    "def main():\n",
    "    prob = 0.80\n",
    "    if random.random() < prob:\n",
    "        print('dog')\n",
    "    else:\n",
    "        print('cat')\n",
    "\n",
    "main()\n"
   ]
  },
  {
   "cell_type": "code",
   "execution_count": null,
   "metadata": {},
   "outputs": [],
   "source": [
    "import random\n",
    "\n",
    "prob = 0.80\n",
    "if random.random() < prob:\n",
    "    print('dog')\n",
    "else:\n",
    "    print('cat')"
   ]
  },
  {
   "cell_type": "markdown",
   "metadata": {},
   "source": [
    "## Advanced\n",
    "\n",
    "Write a program that prints \"I love\" followed by one word: the additional word should be 'dogs' with 80% probability, 'cats' with 10% probability, and 'bats' with 10% probability.\n",
    "\n",
    "Here's an example output:\n",
    "\n",
    "I love bats"
   ]
  },
  {
   "cell_type": "code",
   "execution_count": 12,
   "metadata": {},
   "outputs": [
    {
     "name": "stdout",
     "output_type": "stream",
     "text": [
      "I love dogs\n"
     ]
    }
   ],
   "source": [
    "import random\n",
    "\n",
    "def main():\n",
    "    x = random.random()\n",
    "    if x < 0.8:\n",
    "        favourite = \"dogs\"  # change this\n",
    "    elif x < 0.9:\n",
    "        favourite = \"cats\"  # change this\n",
    "    else:\n",
    "        favourite = \"bats\"  # change this\n",
    "\n",
    "    print(\"I love \" + favourite)\n",
    "\n",
    "main()\n"
   ]
  },
  {
   "cell_type": "code",
   "execution_count": null,
   "metadata": {},
   "outputs": [],
   "source": [
    "import random\n",
    "\n",
    "x = random.random()\n",
    "if x < 0.8:\n",
    "    favourite = \"dogs\"\n",
    "elif x < 0.9:\n",
    "    favourite = \"cats\"\n",
    "else:\n",
    "    favourite = \"bats\"\n",
    "\n",
    "print(\"I love \" + favourite)"
   ]
  }
 ],
 "metadata": {
  "kernelspec": {
   "display_name": "Python 3",
   "language": "python",
   "name": "python3"
  },
  "language_info": {
   "codemirror_mode": {
    "name": "ipython",
    "version": 3
   },
   "file_extension": ".py",
   "mimetype": "text/x-python",
   "name": "python",
   "nbconvert_exporter": "python",
   "pygments_lexer": "ipython3",
   "version": "3.11.6"
  }
 },
 "nbformat": 4,
 "nbformat_minor": 2
}
