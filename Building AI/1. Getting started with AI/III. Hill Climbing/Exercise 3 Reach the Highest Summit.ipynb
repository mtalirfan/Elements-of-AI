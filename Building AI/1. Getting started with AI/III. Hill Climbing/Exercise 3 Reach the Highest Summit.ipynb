{
 "cells": [
  {
   "cell_type": "markdown",
   "metadata": {},
   "source": [
    "# Exercise 3: Reach the highest summit"
   ]
  },
  {
   "cell_type": "markdown",
   "metadata": {},
   "source": [
    "## Beginner\n",
    "\n",
    "Adjust the slider to mark the region that will ensure that Venla reaches the highest summit. Venla will start at a random position inside the region and climb up to the highest peak there.\n",
    "\n",
    "Note: You should drag and resize the slider in order to select the correct answer.\n",
    "\n",
    "Because Venla can only travel upwards (going either left or right), we need to set the boundaries of the zone just above the lowest points on either side of the highest peak."
   ]
  },
  {
   "cell_type": "markdown",
   "metadata": {},
   "source": [
    "## Intermediate\n",
    "\n",
    "Let the elevation at each point on the mountain be stored in array h of size 100. The elevation at the leftmost point is thus stored in h[0] and the elevation at the rightmost point is stored in h[99].\n",
    "\n",
    "If we plot the elevation values, they look like something like this:\n",
    "\n",
    "The following program starts at a random position and keeps going to the right until Venla can no longer go up. To make it easier to avoid falling off the map at the boundaries, we set both h[0] and h[100] equal to zero which is lower than any of the values in between.\n",
    "\n",
    "You can see the result in the above chart where the starting point is marked with a small green box and the point where Venla stops is marked with a small red triangle. This works fine as long as the summit is to her right, but maybe it is to the left?\n",
    "\n",
    "Edit the program so that Venla doesn't stop climbing if she can go up either by moving left or right. If both ways go up, either one is good. To check how your climbing algorithm works in action, you can plot the results of your hill climbing using the Plot button. The summit will be marked with a blue triangle.\n",
    "\n"
   ]
  },
  {
   "cell_type": "code",
   "execution_count": 205,
   "metadata": {},
   "outputs": [
    {
     "name": "stdout",
     "output_type": "stream",
     "text": [
      "Venla started at 80 and got to 76\n"
     ]
    },
    {
     "data": {
      "text/plain": [
       "(80, 76)"
      ]
     },
     "execution_count": 205,
     "metadata": {},
     "output_type": "execute_result"
    }
   ],
   "source": [
    "import math\n",
    "import random             \t# just for generating random mountains\n",
    "\n",
    "# generate random mountains\n",
    "w = [random.random()/3, random.random()/3, random.random()/3]\n",
    "h = [1.+math.sin(1+x/6.)*w[0]+math.sin(-.3+x/9.)*w[1]+math.sin(-.2+x/30.)*w[2] for x in range(100)]\n",
    "h[0] = 0.0; h[99] = 0.0\n",
    "\n",
    "def climb(x, h):\n",
    "    # keep climbing until we've found a summit\n",
    "    summit = False\n",
    "\n",
    "    # edit here\n",
    "    while not summit:\n",
    "        summit = True         # stop unless there's a way up\n",
    "        if h[x + 1] > h[x]:\n",
    "            x = x + 1         # right is higher, go there\n",
    "            summit = False    # and keep going\n",
    "        elif h[x - 1] > h[x]:\n",
    "            x = x - 1         # left is higher, go there\n",
    "            summit = False    # and keep going\n",
    "    return x\n",
    "\n",
    "def main(h):\n",
    "\n",
    "    # start at a random place\n",
    "    x0 = int(99*(random.random())) # starting point any integer from 0 to 99\n",
    "    # x0 = random.randint(1, 98)\n",
    "    x = climb(x0, h)\n",
    "\n",
    "    print(\"Venla started at %d and got to %d\" % (x0, x))\n",
    "    return x0, x\n",
    "\n",
    "main(h)\n"
   ]
  },
  {
   "cell_type": "code",
   "execution_count": 202,
   "metadata": {},
   "outputs": [],
   "source": [
    "def climb(x, h):\n",
    "    # keep climbing until we've found a summit\n",
    "    summit = False\n",
    "\n",
    "    while not summit:\n",
    "        summit = True            # stop unless there's a way up\n",
    "        if h[x + 1] > h[x] and h[x+1]:\n",
    "            x = x + 1            # right is higher, go there\n",
    "            summit = False       # and keep going\n",
    "        elif h[x - 1] > h[x]:\n",
    "            x = x - 1            # left is higher, go there\n",
    "            summit = False       # and keep going\n",
    "    return x"
   ]
  },
  {
   "cell_type": "markdown",
   "metadata": {},
   "source": [
    "## Advanced\n",
    "\n",
    "Let the elevation at each point on the mountain be stored in array h of size 100. The elevation at the leftmost point is thus stored in h[0] and the elevation at the rightmost point is stored in h[99].\n",
    "\n",
    "Here's an example chart. The green box represents Venla's starting position, and the red triangle marks the point where Venla stops. A blue triangle (not shown here) marks the summit.\n",
    "\n",
    "The following program starts at a random position and keeps going to the right until Venla can no longer go up. However, perhaps the mountain is a bit rugged which means it's necessary to look a bit further ahead.\n",
    "\n",
    "Edit the program so that Venla doesn't stop climbing as long as she can go up by moving up to five steps either left or right. If there are multiple choices within five steps that go up, any one of them is good. To check how your climbing algorithm works in action, you can plot the results of your hill climbing using the Plot button. As a reminder, the summit will be marked with a blue triangle.\n",
    "\n",
    "Hint:\n",
    "\n",
    "You can write a loop that goes over the values x–5, ..., x+5, except those that are outside the range 0–99, for example like this:\n",
    "\n",
    "for x_new in range(max(0, x-5), min(99, x+5))\n",
    "If any one of the h[x_new] values is higher than h[x], you can update x to x_new and repeat the same loop again to keep going up."
   ]
  },
  {
   "cell_type": "code",
   "execution_count": 213,
   "metadata": {},
   "outputs": [
    {
     "data": {
      "text/plain": [
       "(94, 72)"
      ]
     },
     "execution_count": 213,
     "metadata": {},
     "output_type": "execute_result"
    }
   ],
   "source": [
    "import math\n",
    "import random # just for generating random mountains\n",
    "\n",
    "# generate random mountains\n",
    "\n",
    "w = [.05, random.random()/3, random.random()/3]\n",
    "h = [1.+math.sin(1+x/.6)*w[0]+math.sin(-.3+x/9.)*w[1]+math.sin(-.2+x/30.)*w[2] for x in range(100)]\n",
    "\n",
    "def climb(x, h):\n",
    "    # keep climbing until we've found a summit\n",
    "    summit = False\n",
    "\n",
    "    # edit here\n",
    "    while not summit:\n",
    "        summit = True            # stop unless there's a way up\n",
    "        for x_new in range(max(0, x-5), min(99, x+5)): # if there is a higher point within 5 units distance of current\n",
    "            if h[x_new] > h[x]:\n",
    "                x = x_new            # left or right is higher, go there\n",
    "                summit = False       # and keep going\n",
    "    return x\n",
    "\n",
    "\n",
    "def main(h):\n",
    "    # start at a random place\n",
    "    x0 = random.randint(1, 98)\n",
    "    x = climb(x0, h)\n",
    "\n",
    "    return x0, x\n",
    "\n",
    "main(h)\n"
   ]
  },
  {
   "cell_type": "code",
   "execution_count": null,
   "metadata": {},
   "outputs": [],
   "source": [
    "def climb(x):\n",
    "    # keep climbing until we've found a summit\n",
    "    summit = False\n",
    "\n",
    "    # edit here\n",
    "    while not summit:\n",
    "        summit = True\n",
    "        for x_new in range(max(0, x-5), min(99, x+5)):\n",
    "            if h[x_new] > h[x]:\n",
    "                x = x_new         # here is higher, go here\n",
    "                summit = False    # and keep going\n",
    "    return x"
   ]
  }
 ],
 "metadata": {
  "kernelspec": {
   "display_name": "Python 3",
   "language": "python",
   "name": "python3"
  },
  "language_info": {
   "codemirror_mode": {
    "name": "ipython",
    "version": 3
   },
   "file_extension": ".py",
   "mimetype": "text/x-python",
   "name": "python",
   "nbconvert_exporter": "python",
   "pygments_lexer": "ipython3",
   "version": "3.11.6"
  }
 },
 "nbformat": 4,
 "nbformat_minor": 2
}
