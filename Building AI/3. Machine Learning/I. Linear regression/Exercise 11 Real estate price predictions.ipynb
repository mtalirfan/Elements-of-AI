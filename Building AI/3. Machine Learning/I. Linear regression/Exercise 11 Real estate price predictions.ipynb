{
 "cells": [
  {
   "cell_type": "markdown",
   "metadata": {},
   "source": [
    "# Exercise 11: Real estate price predictions\n"
   ]
  },
  {
   "cell_type": "markdown",
   "metadata": {},
   "source": [
    "# Beginner\n",
    "\n",
    "input values for one mökkis: size, size of sauna, distance to water, number of indoor bathrooms,\n",
    "proximity of neighbours\n",
    "\n",
    "x = [66, 5, 15, 2, 500]\n",
    "c = [3000, 200 , -50, 5000, 100]     # coefficient values\n",
    "\n",
    "prediction = c[0]*x[0] + c[1]*x[1] + c[2]*x[2] + c[3]*x[3] + c[4]*x[4]\n",
    "\n",
    "print(prediction)\n",
    "You can use the above piece of code to calculate these, or use pen and paper.\n",
    "\n",
    "What would the predicted price of a cabin be with the following details? Size: 85 m2, size of the sauna: 10m2, distance to a lake: 15m, number of indoor toilets: 1, distance to next door neighbor: 100m\n",
    "\n",
    "271250\n",
    "\n",
    "What would the predicted price of a cabin be with the following details? Size: 155m2, size of the sauna: 15m2, distance to a lake: 5m, number of indoor toilets: 1, distance to next door neighbor: 200m.\n",
    "\n",
    "492750\n",
    "\n",
    "Which increases the price of a cabin more?\n",
    "\n",
    "Being 10 m closer to a lake and having an extra indoor toilet changes the price by –50 × (–10) + 1 × 5000 = 5500 eur, while being 10 m² larger and having a neighbour 100 m further away changes the price by 10 × 3000 + 100 × 100 = 40000 eur."
   ]
  },
  {
   "cell_type": "code",
   "execution_count": 5,
   "metadata": {},
   "outputs": [
    {
     "name": "stdout",
     "output_type": "stream",
     "text": [
      "316250\n"
     ]
    }
   ],
   "source": [
    "# input values for one mökkis: size, size of sauna, distance to water, number of indoor bathrooms,\n",
    "# proximity of neighbours\n",
    "\n",
    "# x = [85, 10, 15, 1, 100] # q 1\n",
    "# x = [155, 15, 5, 1, 200] # q 2\n",
    "# x = [85, 10, 5, 2, 100] # q 3a relative to q1\n",
    "x = [95, 10, 15, 2, 200] # q 3b relative to q1\n",
    "\n",
    "c = [3000, 200 , -50, 5000, 100]     # coefficient values\n",
    "\n",
    "prediction = c[0]*x[0] + c[1]*x[1] + c[2]*x[2] + c[3]*x[3] + c[4]*x[4]\n",
    "\n",
    "print(prediction)"
   ]
  },
  {
   "cell_type": "markdown",
   "metadata": {},
   "source": [
    "## Intermediate\n",
    "\n",
    "Edit the code so that it prints out the prices of multiple cabins in one go."
   ]
  },
  {
   "cell_type": "code",
   "execution_count": 23,
   "metadata": {},
   "outputs": [
    {
     "name": "stdout",
     "output_type": "stream",
     "text": [
      "258250\n",
      "76100\n",
      "492750\n"
     ]
    }
   ],
   "source": [
    "# input values for three mökkis:\n",
    "#  - size [m^2],\n",
    "#  - size of the sauna [m^2],\n",
    "#  - distance to water [m],\n",
    "#  - number of indoor bathrooms,\n",
    "#  - proximity of neighbors [m]\n",
    "X = [[66, 5, 15, 2, 500],\n",
    "     [21, 3, 50, 1, 100],\n",
    "     [120, 15, 5, 2, 1200]]\n",
    "\n",
    "# coefficient values\n",
    "c = [3000, 200 , -50, 5000, 100]\n",
    "\n",
    "def predict(X, c):\n",
    "    # write a loop that goes over the cabin data and for each cabin prints out\n",
    "    # the predicted price of the cabin you can assume that the number of inputs\n",
    "    # and the number of coefficients are the same\n",
    "    rows = len(X)\n",
    "    columns = len(X[0])\n",
    "\n",
    "    for i in range(rows):\n",
    "        price = 0\n",
    "        for j in range(columns):\n",
    "            price = price + c[j] * X[i][j]\n",
    "        print(price)\n",
    "\n",
    "predict(X, c)\n"
   ]
  },
  {
   "cell_type": "markdown",
   "metadata": {},
   "source": [
    "## Advanced\n",
    "\n",
    "Edit the following program so that it can process multiple cabins that may be described by any number of details (like five below), at the same time. You can assume that each of the lists contained in the list x and the coefficients c contain the same number of elements.\n",
    "\n",
    "### Same code as above"
   ]
  },
  {
   "cell_type": "code",
   "execution_count": 24,
   "metadata": {},
   "outputs": [
    {
     "name": "stdout",
     "output_type": "stream",
     "text": [
      "258250\n",
      "76100\n",
      "492750\n"
     ]
    }
   ],
   "source": [
    "# input values for three mökkis: size, size of sauna, distance to water, number of indoor bathrooms,\n",
    "# proximity of neighbors\n",
    "X = [[66, 5, 15, 2, 500],\n",
    "     [21, 3, 50, 1, 100],\n",
    "     [120, 15, 5, 2, 1200]]\n",
    "c = [3000, 200, -50, 5000, 100]    # coefficient values\n",
    "\n",
    "def predict(X, c):\n",
    "    rows = len(X)\n",
    "    columns = len(X[0])\n",
    "\n",
    "    for i in range(rows):\n",
    "        price = 0\n",
    "        for j in range(columns):\n",
    "            price = price + c[j] * X[i][j]\n",
    "        print(price)\n",
    "\n",
    "predict(X, c)\n"
   ]
  }
 ],
 "metadata": {
  "kernelspec": {
   "display_name": "Python 3",
   "language": "python",
   "name": "python3"
  },
  "language_info": {
   "codemirror_mode": {
    "name": "ipython",
    "version": 3
   },
   "file_extension": ".py",
   "mimetype": "text/x-python",
   "name": "python",
   "nbconvert_exporter": "python",
   "pygments_lexer": "ipython3",
   "version": "3.11.6"
  }
 },
 "nbformat": 4,
 "nbformat_minor": 2
}
