{
 "cells": [
  {
   "cell_type": "markdown",
   "metadata": {},
   "source": [
    "# Exercise 14: Training data vs test data"
   ]
  },
  {
   "cell_type": "markdown",
   "metadata": {},
   "source": [
    "## Beginner\n",
    "\n",
    "Let's see how the model can be used to predict the prices of cabins not in the training data. Use the widget below to predict the prices of the following cabins. This time the coefficients are fixed so that whatever new data you enter, it doesn't affect the model:\n",
    "\n",
    "Test the model\n",
    "\n",
    "Why are there errors now even though we were able to fit the prices of five cabins perfectly earlier?\n",
    "\n",
    "because now we have estimated the coefficients from one set of cabins and predicted the prices of another set of cabins"
   ]
  },
  {
   "cell_type": "markdown",
   "metadata": {},
   "source": [
    "## Intermediate\n",
    "\n",
    "The program estimates the coefficients of a linear regression model (array c) from the following data:\n",
    "\n",
    "cabin 1, 2, 3, 4, 5, and 6\n",
    "\n",
    "Use the predicted coefficients to obtain price estimates for the following two cabins:\n",
    "\n",
    "cabin 7 and cabin 8\n",
    "\n",
    "Note that the predicted prices will not be the same as the actual prices (which are given in the above table just for comparison – you won't need them in the exercise)."
   ]
  },
  {
   "cell_type": "code",
   "execution_count": 2,
   "metadata": {},
   "outputs": [
    {
     "name": "stdout",
     "output_type": "stream",
     "text": [
      "[127907.6 222269.8 143604.5 268017.6 460686.6 406959.9]\n",
      "[198102.4 289108.3]\n"
     ]
    }
   ],
   "source": [
    "import numpy as np\n",
    "\n",
    "def main():\n",
    "    np.set_printoptions(precision=1)    # this just changes the output settings for easier reading\n",
    "    x_train = np.array(\n",
    "        [\n",
    "            [25, 2, 50, 1, 500],\n",
    "            [39, 3, 10, 1, 1000],\n",
    "            [13, 2, 13, 1, 1000],\n",
    "            [82, 5, 20, 2, 120],\n",
    "            [130, 6, 10, 2, 600],\n",
    "            [115, 6, 10, 1, 550]\n",
    "        ]\n",
    "    )\n",
    "\n",
    "    y_train = np.array([127900, 222100, 143750, 268000, 460700, 407000])\n",
    "\n",
    "    # add the feature data for the two new cabins here. note: don't include the price data\n",
    "    x_test = np.array(\n",
    "        [\n",
    "            [36, 3, 15, 1, 850],\n",
    "            [75, 5, 18, 2, 540]\n",
    "        ]\n",
    "    )\n",
    "\n",
    "    c = np.linalg.lstsq(x_train, y_train, rcond=-1)[0]\n",
    "\n",
    "    # this will print the predicted prices for the six cabins in the training data\n",
    "    # change this so that it predicts the prices of the two new cabins that are not\n",
    "    # included in the training set\n",
    "\n",
    "    print(x_train @ c) # prediction from trained data 1 2 3 4 5 6\n",
    "\n",
    "    print(x_test @ c) # prediction of test data 7 8\n",
    "\n",
    "main()\n"
   ]
  },
  {
   "cell_type": "markdown",
   "metadata": {},
   "source": [
    "## Advanced\n",
    "\n",
    "Write a program that reads data about one set of cabins (training data), estimates linear regression coefficients based on it, then reads data about another set of cabins (test data), and predicts the prices in it. Note that both data sets contain the actual prices, but the program should ignore the prices in the second set. They are given only for comparison.\n",
    "\n",
    "The contents of the sets are as follows.\n",
    "\n",
    "training data\n",
    "\n",
    "cabin 1, 2, 3, 4, 5, and 6\n",
    "\n",
    "test data\n",
    "\n",
    "cabin 7 and cabin 8\n",
    "\n",
    "You can read the data into the program the same way as in the previous exercise.\n",
    "\n",
    "You should then separate the feature and price data that you have just read from the file into two separate arrays names x_train and y_train, so that you can use them as argument to np.linalg.lstsq.\n",
    "\n",
    "The program should work even if the number of features used to describe the cabins differs from five (as long as the same number of features are given in each file).\n",
    "\n",
    "The output should be the set of coefficients for the linear regression and the predicted prices for the second set of cabins."
   ]
  },
  {
   "cell_type": "code",
   "execution_count": 6,
   "metadata": {},
   "outputs": [
    {
     "name": "stdout",
     "output_type": "stream",
     "text": [
      "[2989.6  800.6  -44.8 3890.8   99.8]\n",
      "[198102.4 289108.3]\n"
     ]
    },
    {
     "name": "stderr",
     "output_type": "stream",
     "text": [
      "C:\\Users\\Tal I\\AppData\\Local\\Temp\\ipykernel_20880\\743888695.py:44: FutureWarning: `rcond` parameter will change to the default of machine precision times ``max(M, N)`` where M and N are the input matrix dimensions.\n",
      "To use the future default and silence this warning we advise to pass `rcond=None`, to keep using the old, explicitly pass `rcond=-1`.\n",
      "  c = np.linalg.lstsq(x_train, y_train)[0]\n"
     ]
    }
   ],
   "source": [
    "import numpy as np\n",
    "from io import StringIO\n",
    "\n",
    "\n",
    "train_string = '''\n",
    "25 2 50 1 500 127900\n",
    "39 3 10 1 1000 222100\n",
    "13 2 13 1 1000 143750\n",
    "82 5 20 2 120 268000\n",
    "130 6 10 2 600 460700\n",
    "115 6 10 1 550 407000\n",
    "'''\n",
    "\n",
    "test_string = '''\n",
    "36 3 15 1 850 196000\n",
    "75 5 18 2 540 290000\n",
    "'''\n",
    "\n",
    "def main():\n",
    "    np.set_printoptions(precision=1)    # this just changes the output settings for easier reading\n",
    "\n",
    "    # simulate reading a file\n",
    "    train_file = StringIO(train_string)\n",
    "    test_file = StringIO(test_string)\n",
    "\n",
    "    train_array = np.genfromtxt(train_file, skip_header=1)\n",
    "    test_array = np.genfromtxt(test_file, skip_header=1)\n",
    "\n",
    "    # Please write your code inside this function\n",
    "\n",
    "    # read in the training data and separate it to x_train and y_train\n",
    "    x_train = train_array[:,:-1]  # all except last column\n",
    "    # y_train = train_array[:,5:]  # all except first 5 columns, but we need data of y in row and make it scalable\n",
    "\n",
    "    y_train = []\n",
    "    for i in range(len((train_array))):\n",
    "        y_train.append(train_array[i][-1])\n",
    "    # print(x_train)\n",
    "    # print(y_train)\n",
    "    y_train = np.asarray(y_train)\n",
    "\n",
    "\n",
    "    # fit a linear regression model to the data and get the coefficients\n",
    "    c = np.linalg.lstsq(x_train, y_train)[0]\n",
    "\n",
    "    # read in the test data and separate x_test from it\n",
    "    x_test = np.asarray(test_array[:,:-1])  # all except last column\n",
    "\n",
    "    # print out the linear regression coefficients\n",
    "    print(c)\n",
    "\n",
    "    # this will print out the predicted prices for the two new cabins in the test data set\n",
    "    print(x_test @ c)\n",
    "\n",
    "main()"
   ]
  }
 ],
 "metadata": {
  "kernelspec": {
   "display_name": "Python 3",
   "language": "python",
   "name": "python3"
  },
  "language_info": {
   "codemirror_mode": {
    "name": "ipython",
    "version": 3
   },
   "file_extension": ".py",
   "mimetype": "text/x-python",
   "name": "python",
   "nbconvert_exporter": "python",
   "pygments_lexer": "ipython3",
   "version": "3.11.6"
  }
 },
 "nbformat": 4,
 "nbformat_minor": 2
}
