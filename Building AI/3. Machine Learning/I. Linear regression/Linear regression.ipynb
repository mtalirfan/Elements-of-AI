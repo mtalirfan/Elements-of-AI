{
 "cells": [
  {
   "cell_type": "markdown",
   "metadata": {},
   "source": [
    "a + c1 × x1 + c2 × x2 + c3 × x3"
   ]
  },
  {
   "cell_type": "code",
   "execution_count": 1,
   "metadata": {},
   "outputs": [
    {
     "name": "stdout",
     "output_type": "stream",
     "text": [
      "258250\n"
     ]
    }
   ],
   "source": [
    "# input values for one mökkis: size, size of sauna, distance to water, number of indoor bathrooms, \n",
    "# proximity of neighbours\n",
    "\n",
    "x = [66, 5, 15, 2, 500]\n",
    "c = [3000, 200 , -50, 5000, 100]     # coefficient values\n",
    "\n",
    "prediction = c[0]*x[0] + c[1]*x[1] + c[2]*x[2] + c[3]*x[3] + c[4]*x[4]\n",
    "\n",
    "print(prediction)"
   ]
  },
  {
   "cell_type": "code",
   "execution_count": 1,
   "metadata": {},
   "outputs": [
    {
     "name": "stdout",
     "output_type": "stream",
     "text": [
      "258250\n"
     ]
    }
   ],
   "source": [
    "import numpy as np\n",
    "\n",
    "x = np.array([66, 5, 15, 2, 500])\n",
    "c = np.array([3000, 200 , -50, 5000, 100])\n",
    "\n",
    "print(x @ c)\n"
   ]
  },
  {
   "cell_type": "code",
   "execution_count": 3,
   "metadata": {},
   "outputs": [
    {
     "name": "stdout",
     "output_type": "stream",
     "text": [
      "[258250  76100]\n"
     ]
    }
   ],
   "source": [
    "import numpy as np\n",
    "\n",
    "x = np.array([[66, 5, 15, 2, 500],\n",
    "              [21, 3, 50, 1, 100]])\n",
    "c = np.array([3000, 200 , -50, 5000, 100])\n",
    "\n",
    "print(x @ c)\n",
    "\n"
   ]
  },
  {
   "cell_type": "code",
   "execution_count": 2,
   "metadata": {},
   "outputs": [
    {
     "name": "stdout",
     "output_type": "stream",
     "text": [
      "[3000.  200.  -50. 5000.  100.]\n",
      "[127900. 222100. 143750. 268000. 460700.]\n"
     ]
    },
    {
     "name": "stderr",
     "output_type": "stream",
     "text": [
      "C:\\Users\\Tal I\\AppData\\Local\\Temp\\ipykernel_17340\\1545557461.py:13: FutureWarning: `rcond` parameter will change to the default of machine precision times ``max(M, N)`` where M and N are the input matrix dimensions.\n",
      "To use the future default and silence this warning we advise to pass `rcond=None`, to keep using the old, explicitly pass `rcond=-1`.\n",
      "  c = np.linalg.lstsq(x, y)[0]\n"
     ]
    }
   ],
   "source": [
    "import numpy as np\n",
    "\n",
    "\n",
    "x = np.array([\n",
    "             [25, 2, 50, 1, 500],\n",
    "             [39, 3, 10, 1, 1000],\n",
    "             [13, 2, 13, 1, 1000],\n",
    "             [82, 5, 20, 2, 120],\n",
    "             [130, 6, 10, 2, 600]\n",
    "            ])\n",
    "y = np.array([127900, 222100, 143750, 268000, 460700])\n",
    "\n",
    "c = np.linalg.lstsq(x, y)[0]\n",
    "print(c)\n",
    "print(x @ c)"
   ]
  }
 ],
 "metadata": {
  "kernelspec": {
   "display_name": "Python 3",
   "language": "python",
   "name": "python3"
  },
  "language_info": {
   "codemirror_mode": {
    "name": "ipython",
    "version": 3
   },
   "file_extension": ".py",
   "mimetype": "text/x-python",
   "name": "python",
   "nbconvert_exporter": "python",
   "pygments_lexer": "ipython3",
   "version": "3.11.6"
  }
 },
 "nbformat": 4,
 "nbformat_minor": 2
}
