{
 "cells": [
  {
   "cell_type": "markdown",
   "metadata": {},
   "source": [
    "# Exercise 12: Least squares\n",
    "\n",
    "# Beginner\n",
    "\n",
    "Suppose we have a data set of three points in the format of (x, y): (0, 5), (2, 9.6), and (3.2, 13.6). Your colleagues have built three different models to fit the data, all of the form y = a + b*x. They have given you the coefficients of their models, and they are as follows:\n",
    "\n",
    "a) a=0.5, b=3.2\n",
    "\n",
    "b) a=0, b=1.9\n",
    "\n",
    "c) a=7.6, b=1.9\n",
    "\n",
    "Which of the coefficients gives the smallest squared error? You can use the \"Beginner Exercise Dataset\" in the above widget to help you calculate the error!\n",
    "\n",
    "a=7.6, b=1.9\n",
    "\n",
    "Predicted Line: y = 7.6 + 1.9 * x\n",
    "\n",
    "Predicted Line Error: 3.3\n",
    "\n",
    "Least Squares Fit Line: y = 4.8 + 2.6 * x\n",
    "\n",
    "Least Squares Fit Error: 0.1"
   ]
  },
  {
   "cell_type": "markdown",
   "metadata": {},
   "source": [
    "## Intermediate\n",
    "\n",
    "Modify the program so it implements the calculation of the squared error. In other words, you should calculate the predicted prices for all the cabins in the data, subtract the predicted price from the actual price (which is given in the data), square the difference, and add them all up.\n",
    "\n",
    "The program needs to work for any number of cabins and cabin features."
   ]
  },
  {
   "cell_type": "code",
   "execution_count": 4,
   "metadata": {},
   "outputs": [
    {
     "name": "stdout",
     "output_type": "stream",
     "text": [
      "1367335000.0\n"
     ]
    }
   ],
   "source": [
    "import numpy as np\n",
    "\n",
    "X = np.array([[66, 5, 15, 2, 500],\n",
    "              [21, 3, 50, 1, 100],\n",
    "              [120, 15, 5, 2, 1200]])\n",
    "y = np.array([250000, 60000, 525000])\n",
    "c = np.array([3000, 200 , -50, 5000, 100])    # coefficient values\n",
    "\n",
    "def squared_error(X, y, c):\n",
    "    sse = 0.0\n",
    "    for xi, yi in zip(X, y):\n",
    "        # add your code here: calculate the predicted price,\n",
    "        prediction = xi @ c\n",
    "        # subtract it from the actual price yi,\n",
    "        square = (yi - prediction)**2\n",
    "        # square the difference using (yi - prediction)**2,\n",
    "        # and add up all the differences in variable sse\n",
    "        sse += square\n",
    "\n",
    "    print(sse)\n",
    "\n",
    "squared_error(X, y, c)\n"
   ]
  },
  {
   "cell_type": "markdown",
   "metadata": {},
   "source": [
    "## Advanced\n",
    "\n",
    "Write a program that calculates the squared error for multiple sets of coefficient values and prints out the index of the set that yields the smallest squared error: this is a poor man's version of the least squares method where we only consider a fixed set of alternative coefficient vectors instead of finding the global optimum."
   ]
  },
  {
   "cell_type": "code",
   "execution_count": 15,
   "metadata": {},
   "outputs": [
    {
     "name": "stdout",
     "output_type": "stream",
     "text": [
      "the best set is set 1\n"
     ]
    }
   ],
   "source": [
    "import numpy as np\n",
    "\n",
    "# data\n",
    "X = np.array([[66, 5, 15, 2, 500],\n",
    "              [21, 3, 50, 1, 100],\n",
    "              [120, 15, 5, 2, 1200]])\n",
    "y = np.array([250000, 60000, 525000])\n",
    "\n",
    "# alternative sets of coefficient values\n",
    "c = np.array([[3000, 200 , -50, 5000, 100],\n",
    "              [2000, -250, -100, 150, 250],\n",
    "              [3000, -100, -150, 0, 150]])\n",
    "\n",
    "def find_best(X, y, c):\n",
    "    smallest_error = np.Inf\n",
    "    best_index = -1\n",
    "    for coeff in c:\n",
    "        sse = 0.0\n",
    "        for xi, yi in zip(X, y):\n",
    "            prediction = xi @ coeff\n",
    "            square = (yi - prediction)**2\n",
    "            sse += square\n",
    "\n",
    "        if sse < smallest_error:\n",
    "            smallest_error = sse\n",
    "            best_index = np.where(c == coeff)[0][0]\n",
    "            # print(best_index)\n",
    "                 # edit here: calculate the sum of squared error with coefficient set coeff and\n",
    "                 # keep track of the one yielding the smallest squared error\n",
    "    print(\"the best set is set %d\" % best_index)\n",
    "\n",
    "\n",
    "find_best(X, y, c)\n"
   ]
  }
 ],
 "metadata": {
  "kernelspec": {
   "display_name": "Python 3",
   "language": "python",
   "name": "python3"
  },
  "language_info": {
   "codemirror_mode": {
    "name": "ipython",
    "version": 3
   },
   "file_extension": ".py",
   "mimetype": "text/x-python",
   "name": "python",
   "nbconvert_exporter": "python",
   "pygments_lexer": "ipython3",
   "version": "3.11.6"
  }
 },
 "nbformat": 4,
 "nbformat_minor": 2
}
