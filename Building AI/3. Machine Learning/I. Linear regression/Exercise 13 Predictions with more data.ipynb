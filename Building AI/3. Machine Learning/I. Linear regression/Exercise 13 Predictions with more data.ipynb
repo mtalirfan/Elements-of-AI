{
 "cells": [
  {
   "cell_type": "markdown",
   "metadata": {},
   "source": [
    "# Exercise 13: Predictions with more data"
   ]
  },
  {
   "cell_type": "markdown",
   "metadata": {},
   "source": [
    "## Beginner\n",
    "\n",
    "Here's a simple widget that you can use to add more data and fit the linear regression model automatically.\n",
    "\n",
    "Use the widget to add the details of a sixth cabin so that the data is as follows. Observe how the regression model adapts to your newly inputted data and changes the cabins' predicted prices.\n",
    "\n",
    "Train the model\n",
    "\n",
    "Estimated Coefficients\n",
    "\n",
    "What happens to the predictions of the prices of the first five cabins?\n",
    "\n",
    "they become less accurate"
   ]
  },
  {
   "cell_type": "markdown",
   "metadata": {},
   "source": [
    "## Intermediate\n",
    "\n",
    "Try modifying the code below by adding the numbers for a sixth cabin into the data so that you have the following data set. Do not change the print statements.\n",
    "\n",
    "cabin 1\t25\t2\t50\t1\t500\t    127,900\n",
    "cabin 2\t39\t3\t10\t1\t1000\t222,100\n",
    "cabin 3\t13\t2\t13\t1\t1000\t143,750\n",
    "cabin 4\t82\t5\t20\t2\t120\t    268,000\n",
    "cabin 5\t130\t6\t10\t2\t600\t    460,700\n",
    "cabin 6\t115\t6\t10\t1\t550\t    407,000"
   ]
  },
  {
   "cell_type": "code",
   "execution_count": 1,
   "metadata": {},
   "outputs": [
    {
     "name": "stdout",
     "output_type": "stream",
     "text": [
      "[2989.6  800.6  -44.8 3890.8   99.8]\n",
      "[127907.6 222269.8 143604.5 268017.6 460686.6 406959.9]\n"
     ]
    },
    {
     "name": "stderr",
     "output_type": "stream",
     "text": [
      "C:\\Users\\Tal I\\AppData\\Local\\Temp\\ipykernel_3884\\1635212252.py:19: FutureWarning: `rcond` parameter will change to the default of machine precision times ``max(M, N)`` where M and N are the input matrix dimensions.\n",
      "To use the future default and silence this warning we advise to pass `rcond=None`, to keep using the old, explicitly pass `rcond=-1`.\n",
      "  c = np.linalg.lstsq(x, y)[0]\n"
     ]
    }
   ],
   "source": [
    "import numpy as np\n",
    "\n",
    "def main():\n",
    "    np.set_printoptions(precision=1)\n",
    "\n",
    "    x = np.array(\n",
    "        [\n",
    "            [25, 2, 50, 1, 500],\n",
    "            [39, 3, 10, 1, 1000],\n",
    "            [13, 2, 13, 1, 1000],\n",
    "            [82, 5, 20, 2, 120],\n",
    "            [130, 6, 10, 2, 600],\n",
    "            [115, 6, 10, 1, 550]\n",
    "        ]\n",
    "    )\n",
    "\n",
    "    y = np.array([127900, 222100, 143750, 268000, 460700, 407000])\n",
    "\n",
    "    c = np.linalg.lstsq(x, y)[0]\n",
    "    print(c)\n",
    "\n",
    "    print(x @ c)\n",
    "\n",
    "main()\n"
   ]
  },
  {
   "cell_type": "markdown",
   "metadata": {},
   "source": [
    "## Advanced\n",
    "\n",
    "Write a program that reads cabin details and prices from a CSV file (a standard format for tabular data) and fits a linear regression model to it. The program should be able to handle any number of data points (cabins) described by any number of features (like size, size of sauna, number of bathrooms, ...).\n",
    "\n",
    "You can read a CSV file with the function np.genfromtxt(datafile, skip_header=1). This will return a numpy array that contains the feature data in the columns preceding the last one, and the price data in the last column. The option skip_header=1 just means that the first line in the file is supposed to contain just the column names and shouldn't be included in the actual data.\n",
    "\n",
    "The output of the program should be the estimated coefficients and the predicted or \"fitted\" prices for the same set of cabins used to estimate the parameters. So if you fit the model using data for six cabins with known prices, the program will print out the prices that the model predicts for those six cabins (even if the actual prices are already given in the data).\n",
    "\n",
    "Note that here we will actually only simulate the file input using Python's io.StringIO function that takes an input string and pretends that the contents is coming from a file. In practice, you would just name the input file that contains the data in the same format as the string input below.\n",
    "\n",
    "Hint:\n",
    "\n",
    "You can read the contents of the \"file\" (or in this case, the input string) using the np.genfromtxt function (check out [this](https://stackoverflow.com/q/24027040) stackoverflow answer for help with the dimensionality), and fit the data using np.linalg.lstsq."
   ]
  },
  {
   "cell_type": "code",
   "execution_count": 35,
   "metadata": {},
   "outputs": [
    {
     "name": "stdout",
     "output_type": "stream",
     "text": [
      "[2989.6  800.6  -44.8 3890.8   99.8]\n",
      "[127907.6 222269.8 143604.5 268017.6 460686.6 406959.9]\n"
     ]
    },
    {
     "name": "stderr",
     "output_type": "stream",
     "text": [
      "C:\\Users\\Tal I\\AppData\\Local\\Temp\\ipykernel_3884\\3566719638.py:29: FutureWarning: `rcond` parameter will change to the default of machine precision times ``max(M, N)`` where M and N are the input matrix dimensions.\n",
      "To use the future default and silence this warning we advise to pass `rcond=None`, to keep using the old, explicitly pass `rcond=-1`.\n",
      "  c = np.linalg.lstsq(x, y)[0]\n"
     ]
    }
   ],
   "source": [
    "import numpy as np\n",
    "from io import StringIO\n",
    "\n",
    "input_string = '''\n",
    "25 2 50 1 500 127900\n",
    "39 3 10 1 1000 222100\n",
    "13 2 13 1 1000 143750\n",
    "82 5 20 2 120 268000\n",
    "130 6 10 2 600 460700\n",
    "115 6 10 1 550 407000\n",
    "'''\n",
    "\n",
    "np.set_printoptions(precision=1)    # this just changes the output settings for easier reading\n",
    "\n",
    "def fit_model(input_file):\n",
    "    # Please write your code inside this function\n",
    "    input_array = np.genfromtxt(input_file, skip_header=1)\n",
    "    # read the data in and fit it. the values below are placeholder values\n",
    "    x = input_array[:,:-1]  # all except last column\n",
    "    # y = input_array[:,5:]  # last column, but we need data of y in row\n",
    "\n",
    "    y = []\n",
    "    for i in range(len((input_array))):\n",
    "        y.append(input_array[i][-1])\n",
    "    # print(x)\n",
    "    # print(y)\n",
    "    y = np.asarray(y)\n",
    "\n",
    "    c = np.linalg.lstsq(x, y)[0]\n",
    "\n",
    "    print(c)\n",
    "    print(x @ c)\n",
    "\n",
    "# simulate reading a file\n",
    "\n",
    "input_file = StringIO(input_string)\n",
    "fit_model(input_file)\n"
   ]
  }
 ],
 "metadata": {
  "kernelspec": {
   "display_name": "Python 3",
   "language": "python",
   "name": "python3"
  },
  "language_info": {
   "codemirror_mode": {
    "name": "ipython",
    "version": 3
   },
   "file_extension": ".py",
   "mimetype": "text/x-python",
   "name": "python",
   "nbconvert_exporter": "python",
   "pygments_lexer": "ipython3",
   "version": "3.11.6"
  }
 },
 "nbformat": 4,
 "nbformat_minor": 2
}
