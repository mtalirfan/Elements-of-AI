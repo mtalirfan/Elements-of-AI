{
 "cells": [
  {
   "cell_type": "code",
   "execution_count": 1,
   "metadata": {},
   "outputs": [
    {
     "name": "stdout",
     "output_type": "stream",
     "text": [
      "42.720018726587654\n"
     ]
    }
   ],
   "source": [
    "import math\n",
    "\n",
    "# D = math.sqrt((x_hel - x_ny)**2 + (y_hel - y_ny)**2)\n",
    "\n",
    "x1 = [34.0, 10.0]\n",
    "x2 = [49.0, 50.0]\n",
    "D = math.sqrt((x1[0] - x2[0])**2 + (x1[1] - x2[1])**2)\n",
    "\n",
    "print(D)"
   ]
  },
  {
   "cell_type": "markdown",
   "metadata": {},
   "source": [
    "### Nearest Neighbor Vector Distances (Exercise 15 Advanced)"
   ]
  },
  {
   "cell_type": "code",
   "execution_count": null,
   "metadata": {},
   "outputs": [],
   "source": [
    "import numpy as np\n",
    "\n",
    "x_train = np.random.rand(10, 3)   # generate 10 random vectors of dimension 3\n",
    "x_test = np.random.rand(3)        # generate one more random vector of the same dimension\n",
    "\n",
    "def dist(a, b):\n",
    "    sum = 0\n",
    "    for ai, bi in zip(a, b):\n",
    "        sum = sum + (ai - bi)**2\n",
    "    return np.sqrt(sum)\n",
    "\n",
    "def nearest(x_train, x_test):\n",
    "    nearest = -1\n",
    "    min_distance = np.Inf\n",
    "    # add a loop here that goes through all the vectors in x_train and finds the one that\n",
    "    # is nearest to x_test. return the index (between 0, ..., len(x_train)-1) of the nearest\n",
    "    # neighbor\n",
    "    for i in range(len(x_train) - 1):\n",
    "        curr_distance = dist(x_train[i], x_test)\n",
    "        if curr_distance < min_distance:\n",
    "            min_distance = curr_distance\n",
    "            nearest = i\n",
    "            # print(best_index)\n",
    "    print(nearest)\n",
    "\n",
    "nearest(x_train, x_test)"
   ]
  },
  {
   "cell_type": "code",
   "execution_count": null,
   "metadata": {},
   "outputs": [],
   "source": [
    "import math\n",
    "import numpy as np\n",
    "\n",
    "x_train = np.array([[25, 2, 50, 1, 500],\n",
    "                  [39, 3, 10, 1, 1000],\n",
    "                  [82, 5, 20, 2, 120],\n",
    "                  [130, 6, 10, 2, 600]])\n",
    "y_train = [127900, 222100,  268000, 460700]\n",
    "\n",
    "x_test = np.array([[115, 6, 10, 1, 560], [13, 2, 13, 1, 1000]])\n",
    "\n",
    "\n",
    "def dist(a, b):\n",
    "    sum = 0\n",
    "    for ai, bi in zip(a, b):\n",
    "        sum = sum + (ai - bi)**2\n",
    "    return np.sqrt(sum)\n",
    "\n",
    "n_train = len(x_train) # number of data points in the training set\n",
    "\n",
    "for test_item in x_test:\n",
    "    d = np.empty(n_train) # d will hold the distances between this test data point and all the training data points\n",
    "    for i, train_item in enumerate(x_train):\n",
    "        d[i] = dist(test_item, train_item)\n",
    "    nearest_index = np.argmin(d) # the nearest neighbour will be in y_train[nearest]\n",
    "    print(y_train[nearest_index])"
   ]
  },
  {
   "cell_type": "markdown",
   "metadata": {},
   "source": [
    "### K-Nearest Neighbors (Exercise 16 Advanced)"
   ]
  },
  {
   "cell_type": "code",
   "execution_count": null,
   "metadata": {},
   "outputs": [],
   "source": [
    "import numpy as np\n",
    "from sklearn.datasets import make_blobs\n",
    "from sklearn.preprocessing import MinMaxScaler\n",
    "from sklearn.model_selection import train_test_split\n",
    "\n",
    "\n",
    "# create random data with two classes\n",
    "X, Y = make_blobs(n_samples=16, n_features=2, centers=2, center_box=(-2, 2))\n",
    "\n",
    "# scale the data so that all values are between 0.0 and 1.0\n",
    "X = MinMaxScaler().fit_transform(X)\n",
    "\n",
    "# split two data points from the data as test data and\n",
    "# use the remaining n-2 points as the training data\n",
    "X_train, X_test, y_train, y_test = train_test_split(X, Y, test_size=2)\n",
    "\n",
    "# place-holder for the predicted classes\n",
    "y_predict = np.empty(len(y_test), dtype=np.int64)\n",
    "\n",
    "# produce line segments that connect the test data points\n",
    "# to the nearest neighbors for drawing the chart\n",
    "lines = []\n",
    "\n",
    "# distance function\n",
    "def dist(a, b):\n",
    "    sum = 0\n",
    "    for ai, bi in zip(a, b):\n",
    "        sum = sum + (ai - bi)**2\n",
    "    return np.sqrt(sum)\n",
    "\n",
    "\n",
    "def main(X_train, X_test, y_train, y_test):\n",
    "\n",
    "    global y_predict\n",
    "    global lines\n",
    "\n",
    "    k = 3    # classify our test items based on the classes of 3 nearest neighbors\n",
    "\n",
    "    # process each of the test data points\n",
    "    for i, test_item in enumerate(X_test):\n",
    "        # calculate the distances to all training points\n",
    "        distances = [dist(train_item, test_item) for train_item in X_train]\n",
    "\n",
    "        # add your code here\n",
    "        nearest = np.argmin(distances)       # this just finds the nearest neighbour (so k=1)\n",
    "\n",
    "        nearest_indices = np.argsort(distances)\n",
    "        # print(nearest_indices)\n",
    "\n",
    "        nearest_labels = y_train[nearest_indices[:k]]\n",
    "        # print(nearest_labels)\n",
    "\n",
    "        # create a line connecting the points for the chart\n",
    "        # you may change this to do the same for all the k nearest neigbhors if you like\n",
    "        # but it will not be checked in the tests\n",
    "        lines.append(np.stack((test_item, X_train[nearest])))\n",
    "\n",
    "        y_predict[i] = np.round(np.mean(nearest_labels))\n",
    "\n",
    "    print(y_predict)\n",
    "\n",
    "main(X_train, X_test, y_train, y_test)\n"
   ]
  }
 ],
 "metadata": {
  "kernelspec": {
   "display_name": "Python 3",
   "language": "python",
   "name": "python3"
  },
  "language_info": {
   "codemirror_mode": {
    "name": "ipython",
    "version": 3
   },
   "file_extension": ".py",
   "mimetype": "text/x-python",
   "name": "python",
   "nbconvert_exporter": "python",
   "pygments_lexer": "ipython3",
   "version": "3.11.6"
  }
 },
 "nbformat": 4,
 "nbformat_minor": 2
}
