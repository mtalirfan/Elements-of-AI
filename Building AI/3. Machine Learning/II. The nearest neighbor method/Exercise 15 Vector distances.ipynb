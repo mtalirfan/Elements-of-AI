{
 "cells": [
  {
   "cell_type": "markdown",
   "metadata": {},
   "source": [
    "# Exercise 15: Vector distances"
   ]
  },
  {
   "cell_type": "code",
   "execution_count": 3,
   "metadata": {},
   "outputs": [
    {
     "name": "stdout",
     "output_type": "stream",
     "text": [
      "42.720018726587654\n"
     ]
    }
   ],
   "source": [
    "import math\n",
    "\n",
    "# D = math.sqrt((x_hel - x_ny)**2 + (y_hel - y_ny)**2)\n",
    "\n",
    "x1 = [34.0, 10.0]\n",
    "x2 = [49.0, 50.0]\n",
    "D = math.sqrt((x1[0] - x2[0])**2 + (x1[1] - x2[1])**2)\n",
    "\n",
    "print(D)"
   ]
  },
  {
   "cell_type": "markdown",
   "metadata": {},
   "source": [
    "## Beginner\n",
    "\n",
    "What is the correct Euclidean distance between these two vectors? a = [14, 3, 0.8], b = [2, 6, 0.8]\n",
    "\n",
    "√(2 - 14)2 + (6 - 3)2 + (0.8 - 0.8)2\n",
    "=\t√(-12)2 + (3)2 + (0)2\n",
    "=\t√153\n",
    "=\t3√17\n",
    "=\t12.369316876853\n",
    "\n",
    "~12.37\n",
    "\n"
   ]
  },
  {
   "cell_type": "markdown",
   "metadata": {},
   "source": [
    "## Intermediate\n",
    "\n",
    "Which of these calculate the Euclidean distance between two vectors correctly? You can assume that the arrays a and b containing the vectors are of equal length.\n",
    "\n",
    "Option A\n",
    "\n",
    "import numpy as np\n",
    "\n",
    "def dist(a, b):\n",
    "    sum = 0\n",
    "    for ai, bi in zip(a, b):\n",
    "        sum = sum + (ai - bi)**2\n",
    "    return np.sqrt(sum)\n",
    "Option B\n",
    "\n",
    "import numpy as np\n",
    "\n",
    "def dist(a, b):\n",
    "    sum_a = 0\n",
    "    sum_b = 0\n",
    "    for ai in a:\n",
    "        sum_a = sum_a + ai\n",
    "    for bi in b:\n",
    "        sum_b = sum_b + bi\n",
    "    return np.sqrt((sum_a - sum_b)**2)"
   ]
  },
  {
   "cell_type": "code",
   "execution_count": 5,
   "metadata": {},
   "outputs": [
    {
     "data": {
      "text/plain": [
       "2.23606797749979"
      ]
     },
     "execution_count": 5,
     "metadata": {},
     "output_type": "execute_result"
    }
   ],
   "source": [
    "import numpy as np\n",
    "\n",
    "def dist(a, b):\n",
    "    sum = 0\n",
    "    for ai, bi in zip(a, b):\n",
    "        sum = sum + (ai - bi)**2\n",
    "    return np.sqrt(sum)\n",
    "\n",
    "a = [3, 5]\n",
    "b = [4, 7]\n",
    "\n",
    "dist(a, b)"
   ]
  },
  {
   "cell_type": "code",
   "execution_count": 6,
   "metadata": {},
   "outputs": [
    {
     "data": {
      "text/plain": [
       "3.0"
      ]
     },
     "execution_count": 6,
     "metadata": {},
     "output_type": "execute_result"
    }
   ],
   "source": [
    "import numpy as np\n",
    "\n",
    "def dist(a, b):\n",
    "    sum_a = 0\n",
    "    sum_b = 0\n",
    "    for ai in a:\n",
    "        sum_a = sum_a + ai\n",
    "    for bi in b:\n",
    "        sum_b = sum_b + bi\n",
    "    return np.sqrt((sum_a - sum_b)**2)\n",
    "\n",
    "a = [3, 5]\n",
    "b = [4, 7]\n",
    "\n",
    "dist(a, b)"
   ]
  },
  {
   "cell_type": "markdown",
   "metadata": {},
   "source": [
    "## Advanced\n",
    "\n",
    "You are given an array x_train with multiple input vectors (the \"training data\") and another array x_test with one more input vector (the \"test data\"). Find the vector in x_train that is most similar to the vector in x_test. In other words, find the nearest neighbor of the test data point x_test.\n",
    "\n",
    "The code template gives the function dist to calculate the distance between any two vectors. What you need to add is the implementation of the function nearest that takes the arrays x_train and x_test and prints the index (as an integer between 0, ..., len(x_train)-1) of the nearest neighbor."
   ]
  },
  {
   "cell_type": "code",
   "execution_count": 1,
   "metadata": {},
   "outputs": [
    {
     "name": "stdout",
     "output_type": "stream",
     "text": [
      "0\n"
     ]
    }
   ],
   "source": [
    "import numpy as np\n",
    "\n",
    "x_train = np.random.rand(10, 3)   # generate 10 random vectors of dimension 3\n",
    "x_test = np.random.rand(3)        # generate one more random vector of the same dimension\n",
    "\n",
    "def dist(a, b):\n",
    "    sum = 0\n",
    "    for ai, bi in zip(a, b):\n",
    "        sum = sum + (ai - bi)**2\n",
    "    return np.sqrt(sum)\n",
    "\n",
    "def nearest(x_train, x_test):\n",
    "    nearest = -1\n",
    "    min_distance = np.Inf\n",
    "    # add a loop here that goes through all the vectors in x_train and finds the one that\n",
    "    # is nearest to x_test. return the index (between 0, ..., len(x_train)-1) of the nearest\n",
    "    # neighbor\n",
    "    for i in range(len(x_train) - 1):\n",
    "        curr_distance = dist(x_train[i], x_test)\n",
    "        if curr_distance < min_distance:\n",
    "            min_distance = curr_distance\n",
    "            nearest = i\n",
    "            # print(best_index)\n",
    "    print(nearest)\n",
    "\n",
    "nearest(x_train, x_test)"
   ]
  }
 ],
 "metadata": {
  "kernelspec": {
   "display_name": "Python 3",
   "language": "python",
   "name": "python3"
  },
  "language_info": {
   "codemirror_mode": {
    "name": "ipython",
    "version": 3
   },
   "file_extension": ".py",
   "mimetype": "text/x-python",
   "name": "python",
   "nbconvert_exporter": "python",
   "pygments_lexer": "ipython3",
   "version": "3.11.6"
  }
 },
 "nbformat": 4,
 "nbformat_minor": 2
}
