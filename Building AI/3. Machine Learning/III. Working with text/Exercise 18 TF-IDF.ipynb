{
 "cells": [
  {
   "cell_type": "markdown",
   "metadata": {},
   "source": [
    "# Exercise 18: TF-IDF\n",
    "\n",
    "## Beginner\n",
    "\n",
    "Let’s use Humpty Dumpty as our corpus:\n",
    "\n",
    "Humpty Dumpty sat on a wall,\n",
    "Humpty Dumpty had a great fall.\n",
    "All the king's horses and all the king's men\n",
    "Couldn't put Humpty together again.\n",
    "\n",
    "(Remember, you can type the tf-idf equation into a search engine on your browser to do the calculation)\n",
    "\n",
    "What is the term frequency for the word “Humpty” in line 1 of Humpty Dumpty?\n",
    "\n",
    "1/6\n",
    "\n",
    "What is the term frequency for the word “all” in line 3?\n",
    "\n",
    "2/9\n",
    "\n",
    "What is the document frequency for the word “Humpty”?\n",
    "\n",
    "3/4\n",
    "\n",
    "What is the tf-idf score for word “Humpty” in line 4 of Humpty Dumpty?\n",
    "\n",
    "0.2 * log(4/3) = 0.02498 ~ 0.02"
   ]
  },
  {
   "cell_type": "markdown",
   "metadata": {},
   "source": [
    "## Intermediate\n",
    "\n",
    "Modify the following program to print out the tf-idf values for each document and each word. The following code calculates the tf and df values, so you'll just need to combine them according to the correct formula. There are three documents (sentences) and a total of eight terms (unique words), so the output should be three lists of eight tf-idf values each.\n",
    "\n",
    "Hint:\n",
    "\n",
    "Exercise 17. Bag of Words as well as the other tiers of this exercise explain many relevant concepts in detail. If you're stuck, we would highly recommend you to check them out."
   ]
  },
  {
   "cell_type": "code",
   "execution_count": 15,
   "metadata": {},
   "outputs": [
    {
     "name": "stdout",
     "output_type": "stream",
     "text": [
      "['he', 'loves', 'really', 'coffee', 'sister', 'tea', 'my', 'dislikes']\n",
      "[0.09542425094393249, 0.03521825181113625, 0.19084850188786498, 0.03521825181113625, 0.0, 0.0, 0.0, 0.0]\n",
      "[0.0, 0.0, 0.0, 0.04402281476392031, 0.04402281476392031, 0.0, 0.04402281476392031, 0.11928031367991561]\n",
      "[0.0, 0.04402281476392031, 0.0, 0.0, 0.04402281476392031, 0.11928031367991561, 0.04402281476392031, 0.0]\n"
     ]
    }
   ],
   "source": [
    "import math\n",
    "import numpy as np\n",
    "\n",
    "# DATA BLOCK\n",
    "\n",
    "text = '''he really really loves coffee\n",
    "my sister dislikes coffee\n",
    "my sister loves tea'''\n",
    "\n",
    "def main(text):\n",
    "    # split the text first into lines and then into lists of words\n",
    "    docs = [line.split() for line in text.splitlines()]\n",
    "\n",
    "    N = len(docs)\n",
    "\n",
    "    # create the vocabulary: the list of words that appear at least once\n",
    "    vocabulary = list(set(text.split()))\n",
    "\n",
    "    print(vocabulary)\n",
    "\n",
    "    df = {}\n",
    "    tf = {}\n",
    "    for word in vocabulary:\n",
    "        # tf: number of occurrences of word w in document divided by document length\n",
    "        # note: tf[word] will be a list containing the tf of each word for each document\n",
    "        # for example tf['he'][0] contains the term frequence of the word 'he' in the first\n",
    "        # document\n",
    "        tf[word] = [doc.count(word)/len(doc) for doc in docs]\n",
    "\n",
    "        # df: number of documents containing word\n",
    "        df[word] = sum([word in doc for doc in docs])/N\n",
    "\n",
    "\n",
    "    # loop through documents to calculate the tf-idf values\n",
    "    for doc_index, doc in enumerate(docs):\n",
    "        tfidf = []\n",
    "        for word in vocabulary:\n",
    "            # ADD THE CORRECT FORMULA HERE. Remember to use the base 10 logarithm: math.log(x, 10)\n",
    "            tfidf.append((tf[word][doc_index] * math.log((1 / df[word]), 10)))\n",
    "\n",
    "        print(tfidf)\n",
    "\n",
    "main(text)\n"
   ]
  },
  {
   "cell_type": "markdown",
   "metadata": {},
   "source": [
    "## Advanced\n",
    "\n",
    "Let's combine two tasks: finding the most similar pair of lines and the tf-idf representation.\n",
    "\n",
    "Write a program that uses the tf-idf vectors to find the most similar pair of lines in a given data set. You can test your solution with the example text below. Note, however, that your solution will be tested on other data sets too, so make sure you don't make use of any special properties of the example data (like there being four lines of text).\n",
    "\n",
    "This exercise requires a bit more work than average but you should be able to benefit from what you have done in the previous exercises.\n",
    "\n",
    "Hint:\n",
    "\n",
    "Exercise 17. Bag of Words as well as the other tiers of this exercise explain many relevant concepts in detail. If you're stuck, we would highly recommend you to check them out. When specifying dtype for np.empty, use float instead of np.float."
   ]
  },
  {
   "cell_type": "code",
   "execution_count": 18,
   "metadata": {},
   "outputs": [],
   "source": [
    "text = '''Humpty Dumpty sat on a wall\n",
    "Humpty Dumpty had a great fall\n",
    "all the king's horses and all the king's men\n",
    "couldn't put Humpty together again'''\n",
    "\n",
    "def main(text):\n",
    "    # tasks your code should perform:\n",
    "\n",
    "    # 1. split the text into words, and get a list of unique words that appear in it\n",
    "    # a short one-liner to separate the text into sentences (with words lower-cased to make words equal\n",
    "    # despite casing) can be done with\n",
    "    # docs = [line.lower().split() for line in text.split('\\n')]\n",
    "\n",
    "    # 2. go over each unique word and calculate its term frequency, and its document frequency\n",
    "\n",
    "    # 3. after you have your term frequencies and document frequencies, go over each line in the text and\n",
    "    # calculate its TF-IDF representation, which will be a vector\n",
    "\n",
    "    # 4. after you have calculated the TF-IDF representations for each line in the text, you need to\n",
    "    # calculate the distances between each line to find which are the closest.\n",
    "    pass\n",
    "\n",
    "main(text)\n"
   ]
  },
  {
   "cell_type": "code",
   "execution_count": 19,
   "metadata": {},
   "outputs": [],
   "source": [
    "text = '''Humpty Dumpty sat on a wall\n",
    "Humpty Dumpty had a great fall\n",
    "all the king's horses and all the king's men\n",
    "couldn't put Humpty together again'''\n",
    "\n",
    "def main(text):\n",
    "    # tasks your code should perform:\n",
    "\n",
    "    # 1. split the text into words, and get a list of unique words that appear in it\n",
    "    # a short one-liner to separate the text into sentences (with words lower-cased to make words equal\n",
    "    # despite casing) can be done with\n",
    "    # docs = [line.lower().split() for line in text.split('\\n')]\n",
    "\n",
    "    # 2. go over each unique word and calculate its term frequency, and its document frequency\n",
    "\n",
    "    # 3. after you have your term frequencies and document frequencies, go over each line in the text and\n",
    "    # calculate its TF-IDF representation, which will be a vector\n",
    "\n",
    "    # 4. after you have calculated the TF-IDF representations for each line in the text, you need to\n",
    "    # calculate the distances between each line to find which are the closest.\n",
    "    pass\n",
    "\n",
    "main(text)\n"
   ]
  }
 ],
 "metadata": {
  "kernelspec": {
   "display_name": "Python 3",
   "language": "python",
   "name": "python3"
  },
  "language_info": {
   "codemirror_mode": {
    "name": "ipython",
    "version": 3
   },
   "file_extension": ".py",
   "mimetype": "text/x-python",
   "name": "python",
   "nbconvert_exporter": "python",
   "pygments_lexer": "ipython3",
   "version": "3.11.6"
  }
 },
 "nbformat": 4,
 "nbformat_minor": 2
}
