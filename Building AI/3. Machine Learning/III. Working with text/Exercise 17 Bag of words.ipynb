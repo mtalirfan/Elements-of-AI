{
 "cells": [
  {
   "cell_type": "markdown",
   "metadata": {},
   "source": [
    "# Exercise 17: Bag of words\n",
    "\n",
    "## Beginner\n",
    "\n",
    "Consider the table above that contains the bag-of-word representation of the This Little Piggy nursery rhyme. Compare the lines word by word and add up the differences in the counts of each word. For example the difference (distance) between the first two lines becomes\n",
    "\n",
    "|1–1| + |0–1| + |0–0| + |1–0| + ... + |1–1| = 0 + 1 + 0 + 1 + ... + 0 = 5\n",
    "\n",
    "where the |·| marks the absolute value so for example |0–1| = 1.\n",
    "\n",
    "Which two lines are the most similar to each other?\n",
    "\n",
    "Select the correct answer\n",
    "\n",
    "the 3rd and the 4th"
   ]
  },
  {
   "cell_type": "markdown",
   "metadata": {},
   "source": [
    "## Intermediate\n",
    "\n",
    "Your task is to write a function that calculates the distances (or differences) between a pair of lines in the This Little Piggy rhyme.\n",
    "\n",
    "Every row in the list data represents one line in the rhyme.\n",
    "\n",
    "When you run the code, you see that the output of the whole program is a list of lists. When your function works correctly, each list will contain the distances between a single row and all the other rows in data.\n",
    "\n",
    "Note that the program will compare every row also with itself. In this case – when the compared rows are the same – their distance will be zero.\n",
    "\n",
    "You can use the function abs(x-y) to calculate the distance between numbers x and y, where x comes from list row1 and y comes from row2.\n",
    "\n",
    "Your program must work with any text, not only with the rhyme This Little Piggy."
   ]
  },
  {
   "cell_type": "code",
   "execution_count": 1,
   "metadata": {},
   "outputs": [
    {
     "name": "stdout",
     "output_type": "stream",
     "text": [
      "[[0, 5, 6, 5, 12], [5, 0, 5, 4, 9], [6, 5, 0, 3, 12], [5, 4, 3, 0, 11], [12, 9, 12, 11, 0]]\n"
     ]
    }
   ],
   "source": [
    "import numpy as np\n",
    "\n",
    "# this data here is the bag of words representation of This Little Piggy\n",
    "data = [[1, 0, 0, 1, 0, 0, 1, 0, 1, 0, 0, 0, 0, 0, 0, 0, 1, 1],\n",
    "        [1, 1, 0, 0, 0, 0, 0, 0, 1, 1, 0, 0, 0, 0, 0, 0, 0, 1],\n",
    "        [1, 0, 0, 0, 0, 0, 0, 0, 1, 0, 1, 0, 1, 0, 0, 1, 0, 1],\n",
    "        [1, 0, 0, 0, 0, 0, 0, 0, 1, 0, 1, 1, 0, 0, 0, 0, 0, 1],\n",
    "        [1, 1, 1, 0, 1, 3, 0, 1, 1, 0, 0, 0, 0, 1, 1, 0, 0, 1]]\n",
    "\n",
    "def distance(row1, row2):\n",
    "    # fix this function so that it returns\n",
    "    # the sum of differences between the occurrences\n",
    "    # of each word in row1 and row2.\n",
    "    # you can assume that row1 and row2 are lists with equal length, containing numeric values.\n",
    "\n",
    "    row1 = np.asarray(row1)\n",
    "    row2 = np.asarray(row2)\n",
    "\n",
    "    return sum(abs(row1 - row2))\n",
    "\n",
    "\n",
    "def all_pairs(data):\n",
    "    # this calls the distance function for all the two-row combinations in the data\n",
    "    # you do not need to change this\n",
    "    dist = [[distance(sent1, sent2) for sent1 in data] for sent2 in data]\n",
    "    print(dist)\n",
    "\n",
    "all_pairs(data)\n"
   ]
  },
  {
   "cell_type": "markdown",
   "metadata": {},
   "source": [
    "## Advanced\n",
    "\n",
    "Your task is to write a program that calculates the distances (or differences) between every pair of lines in the This Little Piggy rhyme and finds the most similar pair. Use the [Manhattan distance](https://en.wikipedia.org/wiki/Taxicab_geometry) (also called Taxicab distance) as your distance metric.\n",
    "\n",
    "You can start by building a numpy array to store all the distances. Notice that the diagonal elements in the array (elements at positions [i, j] with i=j) will be equal to zero. This happens because the program will compare every row also with itself. To avoid selecting those elements, you can assign the value np.inf (the maximum possible floating point value). To do this, it's necessary to make sure the type of the array is float. Do not use np.float to set the type of the array, as it is deprecated. Use Python's built-in type float instead.\n",
    "\n",
    "A quick way to get the index of the element with the lowest value in a 2D array (or in fact, any dimension) is by the function\n",
    "\n",
    "np.unravel_index(np.argmin(dist), dist.shape))\n",
    "\n",
    "where dist is the 2D array. This will return the index as a list of length two. If you're curious, here's an [intuitive explanation](https://stackoverflow.com/q/48135736) of the function, and here's its [documentation](https://numpy.org/doc/stable/reference/generated/numpy.unravel_index.html)."
   ]
  },
  {
   "cell_type": "code",
   "execution_count": 34,
   "metadata": {},
   "outputs": [
    {
     "name": "stdout",
     "output_type": "stream",
     "text": [
      "[[0, 5, 6, 5, 12], [5, 0, 5, 4, 9], [6, 5, 0, 3, 12], [5, 4, 3, 0, 11], [12, 9, 12, 11, 0]]\n",
      "[[inf, 5, 6, 5, 12], [5, inf, 5, 4, 9], [6, 5, inf, 3, 12], [5, 4, 3, inf, 11], [12, 9, 12, 11, inf]]\n",
      "[[inf  5.  6.  5. 12.]\n",
      " [ 5. inf  5.  4.  9.]\n",
      " [ 6.  5. inf  3. 12.]\n",
      " [ 5.  4.  3. inf 11.]\n",
      " [12.  9. 12. 11. inf]]\n",
      "(2, 3)\n"
     ]
    }
   ],
   "source": [
    "import numpy as np\n",
    "\n",
    "data = [[1, 0, 0, 1, 0, 0, 1, 0, 1, 0, 0, 0, 0, 0, 0, 0, 1, 1],\n",
    "        [1, 1, 0, 0, 0, 0, 0, 0, 1, 1, 0, 0, 0, 0, 0, 0, 0, 1],\n",
    "        [1, 0, 0, 0, 0, 0, 0, 0, 1, 0, 1, 0, 1, 0, 0, 1, 0, 1],\n",
    "        [1, 0, 0, 0, 0, 0, 0, 0, 1, 0, 1, 1, 0, 0, 0, 0, 0, 1],\n",
    "        [1, 1, 1, 0, 1, 3, 0, 1, 1, 0, 0, 0, 0, 1, 1, 0, 0, 1]]\n",
    "\n",
    "\n",
    "def distance(row1, row2):\n",
    "\n",
    "    row1 = np.asarray(row1)\n",
    "    row2 = np.asarray(row2)\n",
    "\n",
    "    return sum(abs(row1 - row2))\n",
    "\n",
    "def find_nearest_pair(data):\n",
    "\n",
    "    dist = [[distance(sent1, sent2) for sent1 in data] for sent2 in data]\n",
    "\n",
    "    # print(dist)\n",
    "\n",
    "    for i in range(len(dist)):\n",
    "        for j in range(len(dist[i])):\n",
    "            if dist[i][j] == 0:\n",
    "                dist[i][j] = float(\"inf\")\n",
    "\n",
    "    # print(dist)\n",
    "\n",
    "    dist = np.asarray(dist)\n",
    "\n",
    "    # print(dist)\n",
    "\n",
    "    print(np.unravel_index(np.argmin(dist), dist.shape))\n",
    "\n",
    "find_nearest_pair(data)\n"
   ]
  }
 ],
 "metadata": {
  "kernelspec": {
   "display_name": "Python 3",
   "language": "python",
   "name": "python3"
  },
  "language_info": {
   "codemirror_mode": {
    "name": "ipython",
    "version": 3
   },
   "file_extension": ".py",
   "mimetype": "text/x-python",
   "name": "python",
   "nbconvert_exporter": "python",
   "pygments_lexer": "ipython3",
   "version": "3.11.6"
  }
 },
 "nbformat": 4,
 "nbformat_minor": 2
}
